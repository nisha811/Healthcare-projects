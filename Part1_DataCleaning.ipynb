{
 "cells": [
  {
   "cell_type": "markdown",
   "metadata": {
    "collapsed": true
   },
   "source": [
    "**PART 1 : DATA CLEANING**"
   ]
  },
  {
   "cell_type": "code",
   "execution_count": 4,
   "metadata": {
    "collapsed": true
   },
   "outputs": [],
   "source": [
    "import matplotlib.pyplot as plt\n",
    "import numpy as np\n",
    "import pandas as pd\n",
    "from datetime import datetime\n",
    "\n",
    "%matplotlib inline"
   ]
  },
  {
   "cell_type": "code",
   "execution_count": 2,
   "metadata": {
    "collapsed": false
   },
   "outputs": [
    {
     "name": "stderr",
     "output_type": "stream",
     "text": [
      "C:\\Users\\nisha\\AppData\\Local\\Continuum\\Anaconda3\\lib\\site-packages\\IPython\\core\\interactiveshell.py:2717: DtypeWarning: Columns (12,24,28,30,34,35,36,37,38,39,40,41,42,58) have mixed types. Specify dtype option on import or set low_memory=False.\n",
      "  interactivity=interactivity, compiler=compiler, result=result)\n"
     ]
    },
    {
     "name": "stdout",
     "output_type": "stream",
     "text": [
      "0:00:13.735858\n"
     ]
    },
    {
     "name": "stderr",
     "output_type": "stream",
     "text": [
      "C:\\Users\\nisha\\AppData\\Local\\Continuum\\Anaconda3\\lib\\site-packages\\IPython\\core\\interactiveshell.py:2717: DtypeWarning: Columns (24,28,30,34,35,36,37,38,39,40,41,42,58) have mixed types. Specify dtype option on import or set low_memory=False.\n",
      "  interactivity=interactivity, compiler=compiler, result=result)\n"
     ]
    },
    {
     "name": "stdout",
     "output_type": "stream",
     "text": [
      "0:00:14.765368\n"
     ]
    },
    {
     "name": "stderr",
     "output_type": "stream",
     "text": [
      "C:\\Users\\nisha\\AppData\\Local\\Continuum\\Anaconda3\\lib\\site-packages\\IPython\\core\\interactiveshell.py:2717: DtypeWarning: Columns (12,28,30,39,40,41,42,58) have mixed types. Specify dtype option on import or set low_memory=False.\n",
      "  interactivity=interactivity, compiler=compiler, result=result)\n"
     ]
    },
    {
     "name": "stdout",
     "output_type": "stream",
     "text": [
      "0:00:17.272479\n"
     ]
    },
    {
     "name": "stderr",
     "output_type": "stream",
     "text": [
      "C:\\Users\\nisha\\AppData\\Local\\Continuum\\Anaconda3\\lib\\site-packages\\IPython\\core\\interactiveshell.py:2717: DtypeWarning: Columns (11,12,28,30,35,36,37,38,39,40,41,42,58) have mixed types. Specify dtype option on import or set low_memory=False.\n",
      "  interactivity=interactivity, compiler=compiler, result=result)\n"
     ]
    },
    {
     "name": "stdout",
     "output_type": "stream",
     "text": [
      "0:00:18.805588\n"
     ]
    },
    {
     "name": "stderr",
     "output_type": "stream",
     "text": [
      "C:\\Users\\nisha\\AppData\\Local\\Continuum\\Anaconda3\\lib\\site-packages\\IPython\\core\\interactiveshell.py:2717: DtypeWarning: Columns (12,28,35,36,37,38,39,40,41,42,58) have mixed types. Specify dtype option on import or set low_memory=False.\n",
      "  interactivity=interactivity, compiler=compiler, result=result)\n"
     ]
    },
    {
     "name": "stdout",
     "output_type": "stream",
     "text": [
      "0:00:20.767864\n"
     ]
    },
    {
     "name": "stderr",
     "output_type": "stream",
     "text": [
      "C:\\Users\\nisha\\AppData\\Local\\Continuum\\Anaconda3\\lib\\site-packages\\IPython\\core\\interactiveshell.py:2717: DtypeWarning: Columns (12,24,25,28,30,35,36,37,38,39,40,41,42,58) have mixed types. Specify dtype option on import or set low_memory=False.\n",
      "  interactivity=interactivity, compiler=compiler, result=result)\n"
     ]
    },
    {
     "name": "stdout",
     "output_type": "stream",
     "text": [
      "0:00:24.444957\n"
     ]
    },
    {
     "name": "stderr",
     "output_type": "stream",
     "text": [
      "C:\\Users\\nisha\\AppData\\Local\\Continuum\\Anaconda3\\lib\\site-packages\\IPython\\core\\interactiveshell.py:2717: DtypeWarning: Columns (12,24,25) have mixed types. Specify dtype option on import or set low_memory=False.\n",
      "  interactivity=interactivity, compiler=compiler, result=result)\n"
     ]
    },
    {
     "name": "stdout",
     "output_type": "stream",
     "text": [
      "0:00:25.673722\n"
     ]
    },
    {
     "name": "stderr",
     "output_type": "stream",
     "text": [
      "C:\\Users\\nisha\\AppData\\Local\\Continuum\\Anaconda3\\lib\\site-packages\\IPython\\core\\interactiveshell.py:2717: DtypeWarning: Columns (12,18,24,25,39,40,41,42) have mixed types. Specify dtype option on import or set low_memory=False.\n",
      "  interactivity=interactivity, compiler=compiler, result=result)\n"
     ]
    },
    {
     "name": "stdout",
     "output_type": "stream",
     "text": [
      "0:00:21.010051\n"
     ]
    }
   ],
   "source": [
    "# Creating list of unique claim numbers in dataset\n",
    "# MC claims file \n",
    "\n",
    "\n",
    "\n",
    "\n",
    "path = \"C:/Users/nisha/Documents/DATA 900/Data Architechture/Big assignment/PUBLICUSE_CLAIM_MC_2016/\"\n",
    "\n",
    "listofclaims = []\n",
    "k = 2\n",
    "for i in range(8):\n",
    "    a = datetime.now()\n",
    "    j = (i+1)*2000000\n",
    "#     print(k,j)\n",
    "    lista = list(range(1,j))\n",
    "    df = pd.read_table(path+\"PUBLICUSE_CLAIM_MC_2016.txt\", sep = \"|\", encoding='latin-1', nrows = 2000000, skiprows = lista)\n",
    "#     print(len(list(df.CLAIM_ID_KEY.unique())))\n",
    "#     listofclaims.append (list(df.CLAIM_ID_KEY.unique()))\n",
    "    listofclaims =listofclaims + list(df.CLAIM_ID_KEY.unique())\n",
    "    k = 1+j\n",
    "    timepassed = datetime.now() - a\n",
    "    print(timepassed)\n",
    "    del(df)\n",
    "\n"
   ]
  },
  {
   "cell_type": "code",
   "execution_count": 15,
   "metadata": {
    "collapsed": false
   },
   "outputs": [],
   "source": [
    "listofclaims = pd.DataFrame(listofclaims) #converting it into a dataframe\n",
    "listofclaims.columns = ['CLAIM_ID_KEY']\n",
    "unique_claims = listofclaims.head(1000000)"
   ]
  },
  {
   "cell_type": "code",
   "execution_count": 17,
   "metadata": {
    "collapsed": false
   },
   "outputs": [
    {
     "data": {
      "text/plain": [
       "(1000000, 1)"
      ]
     },
     "execution_count": 17,
     "metadata": {},
     "output_type": "execute_result"
    }
   ],
   "source": [
    "unique_claims.shape"
   ]
  },
  {
   "cell_type": "code",
   "execution_count": 18,
   "metadata": {
    "collapsed": false
   },
   "outputs": [
    {
     "name": "stderr",
     "output_type": "stream",
     "text": [
      "C:\\Users\\nisha\\AppData\\Local\\Continuum\\Anaconda3\\lib\\site-packages\\IPython\\core\\interactiveshell.py:2717: DtypeWarning: Columns (11,12,18,24,25,28,30,31,32,33,34,35,36,37,38,39,40,41,42,58) have mixed types. Specify dtype option on import or set low_memory=False.\n",
      "  interactivity=interactivity, compiler=compiler, result=result)\n"
     ]
    },
    {
     "data": {
      "text/html": [
       "<div>\n",
       "<table border=\"1\" class=\"dataframe\">\n",
       "  <thead>\n",
       "    <tr style=\"text-align: right;\">\n",
       "      <th></th>\n",
       "      <th>COVERAGE_CLASS</th>\n",
       "      <th>FROM_YEAR</th>\n",
       "      <th>ADM_YR</th>\n",
       "      <th>DIS_YR</th>\n",
       "      <th>CLAIM_ID_KEY</th>\n",
       "      <th>CS_CLAIM_ID_KEY</th>\n",
       "      <th>SERVICES_KEY</th>\n",
       "      <th>SV_LINE</th>\n",
       "      <th>FORM_TYPE</th>\n",
       "      <th>SV_STAT</th>\n",
       "      <th>...</th>\n",
       "      <th>MR_LINE_CASE_KEY</th>\n",
       "      <th>CASES</th>\n",
       "      <th>UTILS</th>\n",
       "      <th>NDC</th>\n",
       "      <th>CLAIM_STATUS_ORIG</th>\n",
       "      <th>ECODE_ORIG</th>\n",
       "      <th>ADMIT_HOUR</th>\n",
       "      <th>DISCHARGE_HOUR</th>\n",
       "      <th>CLAIM_ADJUSTMENT_LOGIC</th>\n",
       "      <th>IMPUTED_SERVICE_KEY</th>\n",
       "    </tr>\n",
       "  </thead>\n",
       "  <tbody>\n",
       "    <tr>\n",
       "      <th>0</th>\n",
       "      <td>MED</td>\n",
       "      <td>2016</td>\n",
       "      <td>-1</td>\n",
       "      <td>-1</td>\n",
       "      <td>123959956</td>\n",
       "      <td>123959956</td>\n",
       "      <td>188833252</td>\n",
       "      <td>2</td>\n",
       "      <td>U</td>\n",
       "      <td>D</td>\n",
       "      <td>...</td>\n",
       "      <td>544</td>\n",
       "      <td>NaN</td>\n",
       "      <td>NaN</td>\n",
       "      <td>NaN</td>\n",
       "      <td>22</td>\n",
       "      <td>NaN</td>\n",
       "      <td>-1.0</td>\n",
       "      <td>-1.0</td>\n",
       "      <td>CAL4</td>\n",
       "      <td>2016_5544460</td>\n",
       "    </tr>\n",
       "    <tr>\n",
       "      <th>1</th>\n",
       "      <td>MED</td>\n",
       "      <td>2016</td>\n",
       "      <td>-1</td>\n",
       "      <td>-1</td>\n",
       "      <td>123959956</td>\n",
       "      <td>123959956</td>\n",
       "      <td>188833250</td>\n",
       "      <td>1</td>\n",
       "      <td>U</td>\n",
       "      <td>D</td>\n",
       "      <td>...</td>\n",
       "      <td>544</td>\n",
       "      <td>NaN</td>\n",
       "      <td>NaN</td>\n",
       "      <td>NaN</td>\n",
       "      <td>22</td>\n",
       "      <td>NaN</td>\n",
       "      <td>-1.0</td>\n",
       "      <td>-1.0</td>\n",
       "      <td>CAL4</td>\n",
       "      <td>2016_5544460</td>\n",
       "    </tr>\n",
       "    <tr>\n",
       "      <th>2</th>\n",
       "      <td>MED</td>\n",
       "      <td>2016</td>\n",
       "      <td>-1</td>\n",
       "      <td>2016</td>\n",
       "      <td>123959956</td>\n",
       "      <td>123959956</td>\n",
       "      <td>188833247</td>\n",
       "      <td>3</td>\n",
       "      <td>U</td>\n",
       "      <td>P</td>\n",
       "      <td>...</td>\n",
       "      <td>544</td>\n",
       "      <td>NaN</td>\n",
       "      <td>NaN</td>\n",
       "      <td>NaN</td>\n",
       "      <td>22</td>\n",
       "      <td>NaN</td>\n",
       "      <td>1200.0</td>\n",
       "      <td>1500.0</td>\n",
       "      <td>CAL4</td>\n",
       "      <td>2016_5544460</td>\n",
       "    </tr>\n",
       "    <tr>\n",
       "      <th>3</th>\n",
       "      <td>MED</td>\n",
       "      <td>2016</td>\n",
       "      <td>-1</td>\n",
       "      <td>2016</td>\n",
       "      <td>118320306</td>\n",
       "      <td>118320306</td>\n",
       "      <td>176869280</td>\n",
       "      <td>30</td>\n",
       "      <td>U</td>\n",
       "      <td>P</td>\n",
       "      <td>...</td>\n",
       "      <td>550</td>\n",
       "      <td>NaN</td>\n",
       "      <td>NaN</td>\n",
       "      <td>NaN</td>\n",
       "      <td>1</td>\n",
       "      <td>NaN</td>\n",
       "      <td>-1.0</td>\n",
       "      <td>NaN</td>\n",
       "      <td>CAL2</td>\n",
       "      <td>2016_6331969</td>\n",
       "    </tr>\n",
       "    <tr>\n",
       "      <th>4</th>\n",
       "      <td>MED</td>\n",
       "      <td>2016</td>\n",
       "      <td>-1</td>\n",
       "      <td>2016</td>\n",
       "      <td>118320306</td>\n",
       "      <td>118320306</td>\n",
       "      <td>176869291</td>\n",
       "      <td>40</td>\n",
       "      <td>U</td>\n",
       "      <td>P</td>\n",
       "      <td>...</td>\n",
       "      <td>550</td>\n",
       "      <td>NaN</td>\n",
       "      <td>NaN</td>\n",
       "      <td>NaN</td>\n",
       "      <td>1</td>\n",
       "      <td>NaN</td>\n",
       "      <td>-1.0</td>\n",
       "      <td>NaN</td>\n",
       "      <td>CAL2</td>\n",
       "      <td>2016_6331969</td>\n",
       "    </tr>\n",
       "    <tr>\n",
       "      <th>5</th>\n",
       "      <td>MED</td>\n",
       "      <td>2016</td>\n",
       "      <td>-1</td>\n",
       "      <td>2016</td>\n",
       "      <td>118320306</td>\n",
       "      <td>118320306</td>\n",
       "      <td>176869283</td>\n",
       "      <td>50</td>\n",
       "      <td>U</td>\n",
       "      <td>P</td>\n",
       "      <td>...</td>\n",
       "      <td>550</td>\n",
       "      <td>NaN</td>\n",
       "      <td>NaN</td>\n",
       "      <td>NaN</td>\n",
       "      <td>1</td>\n",
       "      <td>NaN</td>\n",
       "      <td>-1.0</td>\n",
       "      <td>NaN</td>\n",
       "      <td>CAL2</td>\n",
       "      <td>2016_6331969</td>\n",
       "    </tr>\n",
       "    <tr>\n",
       "      <th>6</th>\n",
       "      <td>MED</td>\n",
       "      <td>2016</td>\n",
       "      <td>-1</td>\n",
       "      <td>2016</td>\n",
       "      <td>118320306</td>\n",
       "      <td>118320306</td>\n",
       "      <td>176869289</td>\n",
       "      <td>70</td>\n",
       "      <td>U</td>\n",
       "      <td>P</td>\n",
       "      <td>...</td>\n",
       "      <td>550</td>\n",
       "      <td>NaN</td>\n",
       "      <td>NaN</td>\n",
       "      <td>NaN</td>\n",
       "      <td>1</td>\n",
       "      <td>NaN</td>\n",
       "      <td>-1.0</td>\n",
       "      <td>NaN</td>\n",
       "      <td>CAL2</td>\n",
       "      <td>2016_6331969</td>\n",
       "    </tr>\n",
       "    <tr>\n",
       "      <th>7</th>\n",
       "      <td>MED</td>\n",
       "      <td>2016</td>\n",
       "      <td>-1</td>\n",
       "      <td>2016</td>\n",
       "      <td>118320306</td>\n",
       "      <td>118320306</td>\n",
       "      <td>176869284</td>\n",
       "      <td>80</td>\n",
       "      <td>U</td>\n",
       "      <td>P</td>\n",
       "      <td>...</td>\n",
       "      <td>550</td>\n",
       "      <td>NaN</td>\n",
       "      <td>NaN</td>\n",
       "      <td>NaN</td>\n",
       "      <td>1</td>\n",
       "      <td>NaN</td>\n",
       "      <td>-1.0</td>\n",
       "      <td>NaN</td>\n",
       "      <td>CAL2</td>\n",
       "      <td>2016_6331969</td>\n",
       "    </tr>\n",
       "    <tr>\n",
       "      <th>8</th>\n",
       "      <td>MED</td>\n",
       "      <td>2016</td>\n",
       "      <td>-1</td>\n",
       "      <td>2016</td>\n",
       "      <td>118320306</td>\n",
       "      <td>118320306</td>\n",
       "      <td>176869279</td>\n",
       "      <td>10</td>\n",
       "      <td>U</td>\n",
       "      <td>D</td>\n",
       "      <td>...</td>\n",
       "      <td>550</td>\n",
       "      <td>NaN</td>\n",
       "      <td>NaN</td>\n",
       "      <td>NaN</td>\n",
       "      <td>4</td>\n",
       "      <td>NaN</td>\n",
       "      <td>-1.0</td>\n",
       "      <td>NaN</td>\n",
       "      <td>CAL2</td>\n",
       "      <td>2016_6331969</td>\n",
       "    </tr>\n",
       "    <tr>\n",
       "      <th>9</th>\n",
       "      <td>MED</td>\n",
       "      <td>2016</td>\n",
       "      <td>-1</td>\n",
       "      <td>2016</td>\n",
       "      <td>118320306</td>\n",
       "      <td>118320306</td>\n",
       "      <td>176869286</td>\n",
       "      <td>20</td>\n",
       "      <td>U</td>\n",
       "      <td>D</td>\n",
       "      <td>...</td>\n",
       "      <td>550</td>\n",
       "      <td>NaN</td>\n",
       "      <td>NaN</td>\n",
       "      <td>NaN</td>\n",
       "      <td>4</td>\n",
       "      <td>NaN</td>\n",
       "      <td>-1.0</td>\n",
       "      <td>NaN</td>\n",
       "      <td>CAL2</td>\n",
       "      <td>2016_6331969</td>\n",
       "    </tr>\n",
       "  </tbody>\n",
       "</table>\n",
       "<p>10 rows × 63 columns</p>\n",
       "</div>"
      ],
      "text/plain": [
       "  COVERAGE_CLASS  FROM_YEAR  ADM_YR  DIS_YR  CLAIM_ID_KEY  CS_CLAIM_ID_KEY  \\\n",
       "0            MED       2016      -1      -1     123959956        123959956   \n",
       "1            MED       2016      -1      -1     123959956        123959956   \n",
       "2            MED       2016      -1    2016     123959956        123959956   \n",
       "3            MED       2016      -1    2016     118320306        118320306   \n",
       "4            MED       2016      -1    2016     118320306        118320306   \n",
       "5            MED       2016      -1    2016     118320306        118320306   \n",
       "6            MED       2016      -1    2016     118320306        118320306   \n",
       "7            MED       2016      -1    2016     118320306        118320306   \n",
       "8            MED       2016      -1    2016     118320306        118320306   \n",
       "9            MED       2016      -1    2016     118320306        118320306   \n",
       "\n",
       "   SERVICES_KEY  SV_LINE FORM_TYPE SV_STAT         ...          \\\n",
       "0     188833252        2         U       D         ...           \n",
       "1     188833250        1         U       D         ...           \n",
       "2     188833247        3         U       P         ...           \n",
       "3     176869280       30         U       P         ...           \n",
       "4     176869291       40         U       P         ...           \n",
       "5     176869283       50         U       P         ...           \n",
       "6     176869289       70         U       P         ...           \n",
       "7     176869284       80         U       P         ...           \n",
       "8     176869279       10         U       D         ...           \n",
       "9     176869286       20         U       D         ...           \n",
       "\n",
       "   MR_LINE_CASE_KEY CASES UTILS NDC  CLAIM_STATUS_ORIG ECODE_ORIG ADMIT_HOUR  \\\n",
       "0               544   NaN   NaN NaN                 22        NaN       -1.0   \n",
       "1               544   NaN   NaN NaN                 22        NaN       -1.0   \n",
       "2               544   NaN   NaN NaN                 22        NaN     1200.0   \n",
       "3               550   NaN   NaN NaN                  1        NaN       -1.0   \n",
       "4               550   NaN   NaN NaN                  1        NaN       -1.0   \n",
       "5               550   NaN   NaN NaN                  1        NaN       -1.0   \n",
       "6               550   NaN   NaN NaN                  1        NaN       -1.0   \n",
       "7               550   NaN   NaN NaN                  1        NaN       -1.0   \n",
       "8               550   NaN   NaN NaN                  4        NaN       -1.0   \n",
       "9               550   NaN   NaN NaN                  4        NaN       -1.0   \n",
       "\n",
       "  DISCHARGE_HOUR CLAIM_ADJUSTMENT_LOGIC IMPUTED_SERVICE_KEY  \n",
       "0           -1.0                   CAL4        2016_5544460  \n",
       "1           -1.0                   CAL4        2016_5544460  \n",
       "2         1500.0                   CAL4        2016_5544460  \n",
       "3            NaN                   CAL2        2016_6331969  \n",
       "4            NaN                   CAL2        2016_6331969  \n",
       "5            NaN                   CAL2        2016_6331969  \n",
       "6            NaN                   CAL2        2016_6331969  \n",
       "7            NaN                   CAL2        2016_6331969  \n",
       "8            NaN                   CAL2        2016_6331969  \n",
       "9            NaN                   CAL2        2016_6331969  \n",
       "\n",
       "[10 rows x 63 columns]"
      ]
     },
     "execution_count": 18,
     "metadata": {},
     "output_type": "execute_result"
    }
   ],
   "source": [
    "# Merging the unique sample of 1 million claims with the original dataset through chunk merging\n",
    "\n",
    "import numpy as np\n",
    "import pandas as pd\n",
    "\n",
    "path = \"C:/Users/nisha/Documents/DATA 900/Data Architechture/Big assignment/PUBLICUSE_CLAIM_MC_2016/\"\n",
    "\n",
    "df1= pd.DataFrame()\n",
    "\n",
    "milclaims = pd.read_table(path+\"PUBLICUSE_CLAIM_MC_2016.txt\", sep = \"|\", encoding='latin-1')\n",
    "mergedata = pd.merge(milclaims, unique_claims, how='inner', on=['CLAIM_ID_KEY'])\n",
    "df1 = pd.concat([df1, mergedata])\n",
    "\n",
    "\n",
    "df1.head(10)\n",
    "\n"
   ]
  },
  {
   "cell_type": "code",
   "execution_count": 19,
   "metadata": {
    "collapsed": false
   },
   "outputs": [
    {
     "data": {
      "text/plain": [
       "(2477762, 63)"
      ]
     },
     "execution_count": 19,
     "metadata": {},
     "output_type": "execute_result"
    }
   ],
   "source": [
    "df1.shape #2.5 million rows of data"
   ]
  },
  {
   "cell_type": "code",
   "execution_count": 20,
   "metadata": {
    "collapsed": false
   },
   "outputs": [
    {
     "name": "stdout",
     "output_type": "stream",
     "text": [
      "Column 0:COVERAGE_CLASS\n",
      "Column 1:FROM_YEAR\n",
      "Column 2:ADM_YR\n",
      "Column 3:DIS_YR\n",
      "Column 4:CLAIM_ID_KEY\n",
      "Column 5:CS_CLAIM_ID_KEY\n",
      "Column 6:SERVICES_KEY\n",
      "Column 7:SV_LINE\n",
      "Column 8:FORM_TYPE\n",
      "Column 9:SV_STAT\n",
      "Column 10:DIS_STAT\n",
      "Column 11:POS\n",
      "Column 12:AGE\n",
      "Column 13:SEX\n",
      "Column 14:MEMBER_COUNTY\n",
      "Column 15:MEMBER_STATE\n",
      "Column 16:PRODUCT_TYPE\n",
      "Column 17:LOB\n",
      "Column 18:INSURANCE_TYPE\n",
      "Column 19:PROC_CODE\n",
      "Column 20:CPT_MOD1\n",
      "Column 21:CPT_MOD2\n",
      "Column 22:REV_CODE\n",
      "Column 23:UB_BILL_TYPE\n",
      "Column 24:ADM_SRC\n",
      "Column 25:ADM_TYPE\n",
      "Column 26:CLIENT_LOS\n",
      "Column 27:ICD_10_OR_HIGHER\n",
      "Column 28:ICD_PROC_01_PRI\n",
      "Column 29:ICD_DIAG_01_PRIMARY\n",
      "Column 30:ICD_DIAG_ADMIT\n",
      "Column 31:ICD_DIAG_02\n",
      "Column 32:ICD_DIAG_03\n",
      "Column 33:ICD_DIAG_04\n",
      "Column 34:ICD_DIAG_05\n",
      "Column 35:ICD_DIAG_06\n",
      "Column 36:ICD_DIAG_07\n",
      "Column 37:ICD_DIAG_08\n",
      "Column 38:ICD_DIAG_09\n",
      "Column 39:ICD_DIAG_10\n",
      "Column 40:ICD_DIAG_11\n",
      "Column 41:ICD_DIAG_12\n",
      "Column 42:ICD_DIAG_13\n",
      "Column 43:SERV_PROV_CW_KEY\n",
      "Column 44:BILL_PROV_CW_KEY\n",
      "Column 45:QTY\n",
      "Column 46:AMT_BILLED\n",
      "Column 47:AMT_PAID\n",
      "Column 48:AMT_DEDUCT\n",
      "Column 49:AMT_COINS\n",
      "Column 50:AMT_COPAY\n",
      "Column 51:AMT_PREPAID\n",
      "Column 52:INPATIENT_FLAG\n",
      "Column 53:MR_LINE_CASE_KEY\n",
      "Column 54:CASES\n",
      "Column 55:UTILS\n",
      "Column 56:NDC\n",
      "Column 57:CLAIM_STATUS_ORIG\n",
      "Column 58:ECODE_ORIG\n",
      "Column 59:ADMIT_HOUR\n",
      "Column 60:DISCHARGE_HOUR\n",
      "Column 61:CLAIM_ADJUSTMENT_LOGIC\n",
      "Column 62:IMPUTED_SERVICE_KEY\n"
     ]
    }
   ],
   "source": [
    "#listing all columns in the merged df\n",
    "df1.columns\n",
    "for index,i in enumerate(df1.columns):\n",
    "    print(\"Column \" + str(index) + \":\" + str(i))"
   ]
  },
  {
   "cell_type": "code",
   "execution_count": 37,
   "metadata": {
    "collapsed": true
   },
   "outputs": [],
   "source": [
    "df1.to_csv(\"C:/Users/nisha/Documents/DATA 900/Data Architechture/Big assignment/PUBLICUSE_CLAIM_MC_2016/maindata.csv\")"
   ]
  },
  {
   "cell_type": "code",
   "execution_count": 38,
   "metadata": {
    "collapsed": false
   },
   "outputs": [
    {
     "data": {
      "text/plain": [
       "(2477762, 63)"
      ]
     },
     "execution_count": 38,
     "metadata": {},
     "output_type": "execute_result"
    }
   ],
   "source": [
    "df1.shape"
   ]
  },
  {
   "cell_type": "code",
   "execution_count": 6,
   "metadata": {
    "collapsed": true
   },
   "outputs": [],
   "source": [
    "#reducing to the columns necessary and removing unnecessary columns\n",
    "#columns_needed = [4,6,7,12,13,15,16,17,19,23,27,28,29,30,31,32,33,45,46,47,48,55,56]\n",
    "columns_needed=[5,7,8,13,14,15,16,18,20,24,28,29,30,31,32,33,34,46,47,48,49,50,51,52,55,56]"
   ]
  },
  {
   "cell_type": "code",
   "execution_count": 7,
   "metadata": {
    "collapsed": false
   },
   "outputs": [
    {
     "name": "stderr",
     "output_type": "stream",
     "text": [
      "C:\\Users\\nisha\\AppData\\Local\\Continuum\\Anaconda3\\lib\\site-packages\\IPython\\core\\interactiveshell.py:2717: DtypeWarning: Columns (13,29,31) have mixed types. Specify dtype option on import or set low_memory=False.\n",
      "  interactivity=interactivity, compiler=compiler, result=result)\n"
     ]
    }
   ],
   "source": [
    "#inserting the table as df into python, it has 2.4 million rows and 23 columns\n",
    "wanted = pd.read_table(\"C:/Users/nisha/Documents/DATA 900/Data Architechture/Big assignment/PUBLICUSE_CLAIM_MC_2016/maindata.csv\", sep = \",\", encoding='latin-1', usecols  = columns_needed)"
   ]
  },
  {
   "cell_type": "code",
   "execution_count": 8,
   "metadata": {
    "collapsed": false
   },
   "outputs": [
    {
     "data": {
      "text/plain": [
       "Index(['CLAIM_ID_KEY', 'SERVICES_KEY', 'SV_LINE', 'AGE', 'SEX',\n",
       "       'MEMBER_COUNTY', 'MEMBER_STATE', 'LOB', 'PROC_CODE', 'UB_BILL_TYPE',\n",
       "       'ICD_10_OR_HIGHER', 'ICD_PROC_01_PRI', 'ICD_DIAG_01_PRIMARY',\n",
       "       'ICD_DIAG_ADMIT', 'ICD_DIAG_02', 'ICD_DIAG_03', 'ICD_DIAG_04', 'QTY',\n",
       "       'AMT_BILLED', 'AMT_PAID', 'AMT_DEDUCT', 'AMT_COINS', 'AMT_COPAY',\n",
       "       'AMT_PREPAID', 'CASES', 'UTILS'],\n",
       "      dtype='object')"
      ]
     },
     "execution_count": 8,
     "metadata": {},
     "output_type": "execute_result"
    }
   ],
   "source": [
    "wanted.head(10)\n",
    "wanted.columns"
   ]
  },
  {
   "cell_type": "code",
   "execution_count": 9,
   "metadata": {
    "collapsed": false
   },
   "outputs": [],
   "source": [
    "#grouping line items into \"instate\" or \"outstate\"\n",
    "wanted['STATE'] = np.where(wanted['MEMBER_STATE'] == 'NH', 'Instate', 'Outstate')"
   ]
  },
  {
   "cell_type": "code",
   "execution_count": 10,
   "metadata": {
    "collapsed": false
   },
   "outputs": [],
   "source": [
    "#converting the 90+ age as an integer\n",
    "wanted['AGE'] = np.where(wanted['AGE'] == '90+', 90 , wanted['AGE'])\n",
    "\n",
    "#converting all the age values in the column into integers\n",
    "wanted['AGE'] = wanted['AGE'].astype(int)\n",
    "  \n",
    "#grouping the age into categories based on the values\n",
    "wanted['AGE_GROUPS'] = np.where(wanted['AGE'] < 18,'teens',np.where(wanted['AGE'] <= 34,'youth',np.where(wanted['AGE'] <= 65,'midage','old')))\n",
    "                "
   ]
  },
  {
   "cell_type": "code",
   "execution_count": 61,
   "metadata": {
    "collapsed": true
   },
   "outputs": [],
   "source": [
    "wanted.to_csv(\"C:/Users/nisha/Documents/DATA 900/Data Architechture/Big assignment/PUBLICUSE_CLAIM_MC_2016/wanted.csv\")"
   ]
  },
  {
   "cell_type": "code",
   "execution_count": 11,
   "metadata": {
    "collapsed": false
   },
   "outputs": [
    {
     "data": {
      "text/html": [
       "<div>\n",
       "<table border=\"1\" class=\"dataframe\">\n",
       "  <thead>\n",
       "    <tr style=\"text-align: right;\">\n",
       "      <th></th>\n",
       "      <th>CLAIM_ID_KEY</th>\n",
       "      <th>SERVICES_KEY</th>\n",
       "      <th>SV_LINE</th>\n",
       "      <th>AGE</th>\n",
       "      <th>SEX</th>\n",
       "      <th>MEMBER_COUNTY</th>\n",
       "      <th>MEMBER_STATE</th>\n",
       "      <th>LOB</th>\n",
       "      <th>PROC_CODE</th>\n",
       "      <th>UB_BILL_TYPE</th>\n",
       "      <th>...</th>\n",
       "      <th>AMT_BILLED</th>\n",
       "      <th>AMT_PAID</th>\n",
       "      <th>AMT_DEDUCT</th>\n",
       "      <th>AMT_COINS</th>\n",
       "      <th>AMT_COPAY</th>\n",
       "      <th>AMT_PREPAID</th>\n",
       "      <th>CASES</th>\n",
       "      <th>UTILS</th>\n",
       "      <th>STATE</th>\n",
       "      <th>AGE_GROUPS</th>\n",
       "    </tr>\n",
       "  </thead>\n",
       "  <tbody>\n",
       "    <tr>\n",
       "      <th>0</th>\n",
       "      <td>123959956</td>\n",
       "      <td>188833252</td>\n",
       "      <td>2</td>\n",
       "      <td>27</td>\n",
       "      <td>F</td>\n",
       "      <td>13</td>\n",
       "      <td>NH</td>\n",
       "      <td>COMMERCIAL</td>\n",
       "      <td>NaN</td>\n",
       "      <td>311.0</td>\n",
       "      <td>...</td>\n",
       "      <td>0.0</td>\n",
       "      <td>0.00</td>\n",
       "      <td>0.0</td>\n",
       "      <td>0.0</td>\n",
       "      <td>0.0</td>\n",
       "      <td>0.0</td>\n",
       "      <td>NaN</td>\n",
       "      <td>NaN</td>\n",
       "      <td>Instate</td>\n",
       "      <td>youth</td>\n",
       "    </tr>\n",
       "    <tr>\n",
       "      <th>1</th>\n",
       "      <td>123959956</td>\n",
       "      <td>188833250</td>\n",
       "      <td>1</td>\n",
       "      <td>27</td>\n",
       "      <td>F</td>\n",
       "      <td>13</td>\n",
       "      <td>NH</td>\n",
       "      <td>COMMERCIAL</td>\n",
       "      <td>NaN</td>\n",
       "      <td>311.0</td>\n",
       "      <td>...</td>\n",
       "      <td>0.0</td>\n",
       "      <td>0.00</td>\n",
       "      <td>0.0</td>\n",
       "      <td>0.0</td>\n",
       "      <td>0.0</td>\n",
       "      <td>0.0</td>\n",
       "      <td>NaN</td>\n",
       "      <td>NaN</td>\n",
       "      <td>Instate</td>\n",
       "      <td>youth</td>\n",
       "    </tr>\n",
       "    <tr>\n",
       "      <th>2</th>\n",
       "      <td>123959956</td>\n",
       "      <td>188833247</td>\n",
       "      <td>3</td>\n",
       "      <td>27</td>\n",
       "      <td>F</td>\n",
       "      <td>13</td>\n",
       "      <td>NH</td>\n",
       "      <td>COMMERCIAL</td>\n",
       "      <td>NaN</td>\n",
       "      <td>111.0</td>\n",
       "      <td>...</td>\n",
       "      <td>0.0</td>\n",
       "      <td>13351.56</td>\n",
       "      <td>75.0</td>\n",
       "      <td>0.0</td>\n",
       "      <td>0.0</td>\n",
       "      <td>0.0</td>\n",
       "      <td>NaN</td>\n",
       "      <td>NaN</td>\n",
       "      <td>Instate</td>\n",
       "      <td>youth</td>\n",
       "    </tr>\n",
       "    <tr>\n",
       "      <th>3</th>\n",
       "      <td>118320306</td>\n",
       "      <td>176869280</td>\n",
       "      <td>30</td>\n",
       "      <td>62</td>\n",
       "      <td>M</td>\n",
       "      <td>5</td>\n",
       "      <td>NH</td>\n",
       "      <td>COMMERCIAL</td>\n",
       "      <td>80053</td>\n",
       "      <td>311.0</td>\n",
       "      <td>...</td>\n",
       "      <td>81.0</td>\n",
       "      <td>34.58</td>\n",
       "      <td>0.0</td>\n",
       "      <td>0.0</td>\n",
       "      <td>0.0</td>\n",
       "      <td>0.0</td>\n",
       "      <td>NaN</td>\n",
       "      <td>NaN</td>\n",
       "      <td>Instate</td>\n",
       "      <td>midage</td>\n",
       "    </tr>\n",
       "    <tr>\n",
       "      <th>4</th>\n",
       "      <td>118320306</td>\n",
       "      <td>176869291</td>\n",
       "      <td>40</td>\n",
       "      <td>62</td>\n",
       "      <td>M</td>\n",
       "      <td>5</td>\n",
       "      <td>NH</td>\n",
       "      <td>COMMERCIAL</td>\n",
       "      <td>81003</td>\n",
       "      <td>311.0</td>\n",
       "      <td>...</td>\n",
       "      <td>8.0</td>\n",
       "      <td>7.35</td>\n",
       "      <td>0.0</td>\n",
       "      <td>0.0</td>\n",
       "      <td>0.0</td>\n",
       "      <td>0.0</td>\n",
       "      <td>NaN</td>\n",
       "      <td>NaN</td>\n",
       "      <td>Instate</td>\n",
       "      <td>midage</td>\n",
       "    </tr>\n",
       "    <tr>\n",
       "      <th>5</th>\n",
       "      <td>118320306</td>\n",
       "      <td>176869283</td>\n",
       "      <td>50</td>\n",
       "      <td>62</td>\n",
       "      <td>M</td>\n",
       "      <td>5</td>\n",
       "      <td>NH</td>\n",
       "      <td>COMMERCIAL</td>\n",
       "      <td>85027</td>\n",
       "      <td>311.0</td>\n",
       "      <td>...</td>\n",
       "      <td>23.0</td>\n",
       "      <td>21.16</td>\n",
       "      <td>0.0</td>\n",
       "      <td>0.0</td>\n",
       "      <td>0.0</td>\n",
       "      <td>0.0</td>\n",
       "      <td>NaN</td>\n",
       "      <td>NaN</td>\n",
       "      <td>Instate</td>\n",
       "      <td>midage</td>\n",
       "    </tr>\n",
       "    <tr>\n",
       "      <th>6</th>\n",
       "      <td>118320306</td>\n",
       "      <td>176869289</td>\n",
       "      <td>70</td>\n",
       "      <td>62</td>\n",
       "      <td>M</td>\n",
       "      <td>5</td>\n",
       "      <td>NH</td>\n",
       "      <td>COMMERCIAL</td>\n",
       "      <td>85730</td>\n",
       "      <td>311.0</td>\n",
       "      <td>...</td>\n",
       "      <td>21.0</td>\n",
       "      <td>19.64</td>\n",
       "      <td>0.0</td>\n",
       "      <td>0.0</td>\n",
       "      <td>0.0</td>\n",
       "      <td>0.0</td>\n",
       "      <td>NaN</td>\n",
       "      <td>NaN</td>\n",
       "      <td>Instate</td>\n",
       "      <td>midage</td>\n",
       "    </tr>\n",
       "    <tr>\n",
       "      <th>7</th>\n",
       "      <td>118320306</td>\n",
       "      <td>176869284</td>\n",
       "      <td>80</td>\n",
       "      <td>62</td>\n",
       "      <td>M</td>\n",
       "      <td>5</td>\n",
       "      <td>NH</td>\n",
       "      <td>COMMERCIAL</td>\n",
       "      <td>86850</td>\n",
       "      <td>311.0</td>\n",
       "      <td>...</td>\n",
       "      <td>37.0</td>\n",
       "      <td>37.00</td>\n",
       "      <td>0.0</td>\n",
       "      <td>0.0</td>\n",
       "      <td>0.0</td>\n",
       "      <td>0.0</td>\n",
       "      <td>NaN</td>\n",
       "      <td>NaN</td>\n",
       "      <td>Instate</td>\n",
       "      <td>midage</td>\n",
       "    </tr>\n",
       "    <tr>\n",
       "      <th>8</th>\n",
       "      <td>118320306</td>\n",
       "      <td>176869279</td>\n",
       "      <td>10</td>\n",
       "      <td>62</td>\n",
       "      <td>M</td>\n",
       "      <td>5</td>\n",
       "      <td>NH</td>\n",
       "      <td>COMMERCIAL</td>\n",
       "      <td>36415</td>\n",
       "      <td>311.0</td>\n",
       "      <td>...</td>\n",
       "      <td>13.0</td>\n",
       "      <td>0.00</td>\n",
       "      <td>0.0</td>\n",
       "      <td>0.0</td>\n",
       "      <td>0.0</td>\n",
       "      <td>0.0</td>\n",
       "      <td>NaN</td>\n",
       "      <td>NaN</td>\n",
       "      <td>Instate</td>\n",
       "      <td>midage</td>\n",
       "    </tr>\n",
       "    <tr>\n",
       "      <th>9</th>\n",
       "      <td>118320306</td>\n",
       "      <td>176869286</td>\n",
       "      <td>20</td>\n",
       "      <td>62</td>\n",
       "      <td>M</td>\n",
       "      <td>5</td>\n",
       "      <td>NH</td>\n",
       "      <td>COMMERCIAL</td>\n",
       "      <td>36415</td>\n",
       "      <td>311.0</td>\n",
       "      <td>...</td>\n",
       "      <td>13.0</td>\n",
       "      <td>0.00</td>\n",
       "      <td>0.0</td>\n",
       "      <td>0.0</td>\n",
       "      <td>0.0</td>\n",
       "      <td>0.0</td>\n",
       "      <td>NaN</td>\n",
       "      <td>NaN</td>\n",
       "      <td>Instate</td>\n",
       "      <td>midage</td>\n",
       "    </tr>\n",
       "  </tbody>\n",
       "</table>\n",
       "<p>10 rows × 28 columns</p>\n",
       "</div>"
      ],
      "text/plain": [
       "   CLAIM_ID_KEY  SERVICES_KEY  SV_LINE  AGE SEX  MEMBER_COUNTY MEMBER_STATE  \\\n",
       "0     123959956     188833252        2   27   F             13           NH   \n",
       "1     123959956     188833250        1   27   F             13           NH   \n",
       "2     123959956     188833247        3   27   F             13           NH   \n",
       "3     118320306     176869280       30   62   M              5           NH   \n",
       "4     118320306     176869291       40   62   M              5           NH   \n",
       "5     118320306     176869283       50   62   M              5           NH   \n",
       "6     118320306     176869289       70   62   M              5           NH   \n",
       "7     118320306     176869284       80   62   M              5           NH   \n",
       "8     118320306     176869279       10   62   M              5           NH   \n",
       "9     118320306     176869286       20   62   M              5           NH   \n",
       "\n",
       "          LOB PROC_CODE  UB_BILL_TYPE     ...      AMT_BILLED  AMT_PAID  \\\n",
       "0  COMMERCIAL       NaN         311.0     ...             0.0      0.00   \n",
       "1  COMMERCIAL       NaN         311.0     ...             0.0      0.00   \n",
       "2  COMMERCIAL       NaN         111.0     ...             0.0  13351.56   \n",
       "3  COMMERCIAL     80053         311.0     ...            81.0     34.58   \n",
       "4  COMMERCIAL     81003         311.0     ...             8.0      7.35   \n",
       "5  COMMERCIAL     85027         311.0     ...            23.0     21.16   \n",
       "6  COMMERCIAL     85730         311.0     ...            21.0     19.64   \n",
       "7  COMMERCIAL     86850         311.0     ...            37.0     37.00   \n",
       "8  COMMERCIAL     36415         311.0     ...            13.0      0.00   \n",
       "9  COMMERCIAL     36415         311.0     ...            13.0      0.00   \n",
       "\n",
       "  AMT_DEDUCT AMT_COINS AMT_COPAY AMT_PREPAID CASES  UTILS    STATE  AGE_GROUPS  \n",
       "0        0.0       0.0       0.0         0.0   NaN    NaN  Instate       youth  \n",
       "1        0.0       0.0       0.0         0.0   NaN    NaN  Instate       youth  \n",
       "2       75.0       0.0       0.0         0.0   NaN    NaN  Instate       youth  \n",
       "3        0.0       0.0       0.0         0.0   NaN    NaN  Instate      midage  \n",
       "4        0.0       0.0       0.0         0.0   NaN    NaN  Instate      midage  \n",
       "5        0.0       0.0       0.0         0.0   NaN    NaN  Instate      midage  \n",
       "6        0.0       0.0       0.0         0.0   NaN    NaN  Instate      midage  \n",
       "7        0.0       0.0       0.0         0.0   NaN    NaN  Instate      midage  \n",
       "8        0.0       0.0       0.0         0.0   NaN    NaN  Instate      midage  \n",
       "9        0.0       0.0       0.0         0.0   NaN    NaN  Instate      midage  \n",
       "\n",
       "[10 rows x 28 columns]"
      ]
     },
     "execution_count": 11,
     "metadata": {},
     "output_type": "execute_result"
    }
   ],
   "source": [
    "wanted.head(10)"
   ]
  },
  {
   "cell_type": "code",
   "execution_count": 12,
   "metadata": {
    "collapsed": false,
    "scrolled": true
   },
   "outputs": [
    {
     "data": {
      "text/plain": [
       "(2477762, 28)"
      ]
     },
     "execution_count": 12,
     "metadata": {},
     "output_type": "execute_result"
    }
   ],
   "source": [
    "wanted.shape"
   ]
  },
  {
   "cell_type": "code",
   "execution_count": 13,
   "metadata": {
    "collapsed": true
   },
   "outputs": [],
   "source": [
    "#droping all rows with amt_paid as negative\n",
    "wanted.drop(wanted[wanted.AMT_PAID < 0].index, inplace = True)"
   ]
  },
  {
   "cell_type": "markdown",
   "metadata": {},
   "source": [
    "**Q1** - **Analysis of demographics**\n",
    "\n",
    "a) Perform a thorough analysis of differences in total costs of healthcare by gender, age groups, county of residence, and in-state vs out-of-state resident patients. "
   ]
  },
  {
   "cell_type": "code",
   "execution_count": 15,
   "metadata": {
    "collapsed": false
   },
   "outputs": [],
   "source": [
    "grouped_gender = wanted.groupby(\"SEX\")\n",
    "grouped_agegroup = wanted.groupby(\"AGE_GROUPS\")\n",
    "grouped_county = wanted.groupby(\"MEMBER_COUNTY\")\n",
    "grouped_state = wanted.groupby(\"STATE\")"
   ]
  },
  {
   "cell_type": "code",
   "execution_count": 22,
   "metadata": {
    "collapsed": false
   },
   "outputs": [
    {
     "data": {
      "image/png": "[encoded data removed]",
      "text/plain": [
       "<matplotlib.figure.Figure at 0x2096a0bd4e0>"
      ]
     },
     "metadata": {},
     "output_type": "display_data"
    },
    {
     "data": {
      "image/png": "[encoded data removed]",
      "text/plain": [
       "<matplotlib.figure.Figure at 0x2093a309ba8>"
      ]
     },
     "metadata": {},
     "output_type": "display_data"
    },
    {
     "data": {
      "image/png": "[encoded data removed]",
      "text/plain": [
       "<matplotlib.figure.Figure at 0x2095519cef0>"
      ]
     },
     "metadata": {},
     "output_type": "display_data"
    },
    {
     "data": {
      "image/png": "[encoded data removed]",
      "text/plain": [
       "<matplotlib.figure.Figure at 0x2093a251080>"
      ]
     },
     "metadata": {},
     "output_type": "display_data"
    }
   ],
   "source": [
    "grouped_gender['AMT_PAID'].agg(np.sum).plot(kind='bar',color='r')\n",
    "plt.title('Differences in total costs of healthcare by GENDER')\n",
    "plt.show()\n",
    "grouped_agegroup['AMT_PAID'].agg(np.sum).plot(kind='bar',color='b')\n",
    "plt.title('Differences in total costs of healthcare by AGE GROUPS')\n",
    "plt.show()\n",
    "grouped_county['AMT_PAID'].agg(np.sum).plot(kind='bar',color='g')\n",
    "plt.title('Differences in total costs of healthcare by COUNTY')\n",
    "plt.show()\n",
    "grouped_state['AMT_PAID'].agg(np.sum).plot(kind='bar')\n",
    "plt.title('Differences in total costs of healthcare by STATE')\n",
    "plt.show()\n"
   ]
  },
  {
   "cell_type": "code",
   "execution_count": 80,
   "metadata": {
    "collapsed": false
   },
   "outputs": [
    {
     "name": "stdout",
     "output_type": "stream",
     "text": [
      "          size       mean         std\n",
      "SEX                                  \n",
      "F    1400683.0  84.080942  533.168692\n",
      "M    1040977.0  88.084107  641.807496\n"
     ]
    }
   ],
   "source": [
    "print(grouped_gender['AMT_PAID'].agg([np.size, np.mean, np.std]))"
   ]
  },
  {
   "cell_type": "code",
   "execution_count": 88,
   "metadata": {
    "collapsed": false
   },
   "outputs": [
    {
     "name": "stdout",
     "output_type": "stream",
     "text": [
      "               size       mean         std\n",
      "STATE                                     \n",
      "Instate   2030224.0  89.694289  609.806399\n",
      "Outstate   411436.0  66.510413  417.818036\n"
     ]
    }
   ],
   "source": [
    "print(grouped_state['AMT_PAID'].agg([np.size, np.mean, np.std]))"
   ]
  },
  {
   "cell_type": "code",
   "execution_count": 89,
   "metadata": {
    "collapsed": false
   },
   "outputs": [
    {
     "name": "stdout",
     "output_type": "stream",
     "text": [
      "                 size        mean         std\n",
      "AGE_GROUPS                                   \n",
      "midage       973176.0  142.296592  764.710939\n",
      "old         1121365.0   26.691072  265.061583\n",
      "teens         98605.0  123.277344  795.449792\n",
      "youth        248514.0  116.285004  663.218626\n"
     ]
    }
   ],
   "source": [
    "print(grouped_agegroup['AMT_PAID'].agg([np.size, np.mean, np.std]))"
   ]
  },
  {
   "cell_type": "code",
   "execution_count": 90,
   "metadata": {
    "collapsed": false
   },
   "outputs": [
    {
     "name": "stdout",
     "output_type": "stream",
     "text": [
      "                   size        mean         std\n",
      "MEMBER_COUNTY                                  \n",
      "1              133186.0   76.834446  587.246048\n",
      "3               84338.0  101.626909  832.140809\n",
      "5              102891.0   76.510050  455.951329\n",
      "7               50293.0  132.853769  803.275912\n",
      "9               99027.0   96.830307  623.213340\n",
      "11             600951.0   83.661860  598.493905\n",
      "13             249825.0   81.200193  537.814609\n",
      "15             501733.0   90.690418  597.133243\n",
      "17             157598.0  118.905785  676.230674\n",
      "19              50382.0   86.308290  622.487505\n",
      "999            411436.0   66.510413  417.818036\n"
     ]
    }
   ],
   "source": [
    "print(grouped_county['AMT_PAID'].agg([np.size, np.mean, np.std]))"
   ]
  }
 ],
 "metadata": {
  "kernelspec": {
   "display_name": "Python 3",
   "language": "python",
   "name": "python3"
  },
  "language_info": {
   "codemirror_mode": {
    "name": "ipython",
    "version": 3
   },
   "file_extension": ".py",
   "mimetype": "text/x-python",
   "name": "python",
   "nbconvert_exporter": "python",
   "pygments_lexer": "ipython3",
   "version": "3.6.0"
  }
 },
 "nbformat": 4,
 "nbformat_minor": 2
}
