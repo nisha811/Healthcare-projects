{
 "cells": [
  {
   "cell_type": "markdown",
   "metadata": {},
   "source": [
    "# HW2 - HEALTH ANALYTICS "
   ]
  },
  {
   "cell_type": "markdown",
   "metadata": {},
   "source": [
    "** Writing txt file to csv file **"
   ]
  },
  {
   "cell_type": "code",
   "execution_count": 2,
   "metadata": {
    "collapsed": true
   },
   "outputs": [],
   "source": [
    "import numpy as np\n",
    "import pandas as pd\n",
    "from datetime import datetime\n"
   ]
  },
  {
   "cell_type": "code",
   "execution_count": 54,
   "metadata": {
    "collapsed": true
   },
   "outputs": [],
   "source": [
    "path = 'C:/Users/nisha/Dropbox/Python project/HealthAnalytics/'"
   ]
  },
  {
   "cell_type": "code",
   "execution_count": 55,
   "metadata": {
    "collapsed": false
   },
   "outputs": [
    {
     "name": "stderr",
     "output_type": "stream",
     "text": [
      "C:\\Users\\nisha\\AppData\\Local\\Continuum\\Anaconda3\\lib\\site-packages\\IPython\\core\\interactiveshell.py:2717: DtypeWarning: Columns (1,2,18,19) have mixed types. Specify dtype option on import or set low_memory=False.\n",
      "  interactivity=interactivity, compiler=compiler, result=result)\n"
     ]
    }
   ],
   "source": [
    "df_cleaned = pd.read_table(path+\"Cleaned_1M_inner.csv\", sep = \",\", encoding='latin-1')"
   ]
  },
  {
   "cell_type": "markdown",
   "metadata": {},
   "source": [
    "**1. total costs of healthcare by gender**"
   ]
  },
  {
   "cell_type": "code",
   "execution_count": 56,
   "metadata": {
    "collapsed": true
   },
   "outputs": [],
   "source": [
    "#Grouping the refined data by SEX \n",
    "grouped=df_cleaned.groupby(\"SEX\")"
   ]
  },
  {
   "cell_type": "code",
   "execution_count": 60,
   "metadata": {
    "collapsed": false
   },
   "outputs": [
    {
     "data": {
      "image/png": "[encoded data removed]",
      "text/plain": [
       "<matplotlib.figure.Figure at 0x16ad85a8f60>"
      ]
     },
     "metadata": {},
     "output_type": "display_data"
    }
   ],
   "source": [
    "#Bar plot which shows that females expenditure on health care is more that men, w.r.t AMT_PAID\n",
    "grouped['AMT_PAID'].agg(np.size).plot(kind=\"bar\")\n",
    "plt.show()"
   ]
  },
  {
   "cell_type": "code",
   "execution_count": 64,
   "metadata": {
    "collapsed": false
   },
   "outputs": [
    {
     "name": "stdout",
     "output_type": "stream",
     "text": [
      "          size           sum        mean          std\n",
      "SEX                                                  \n",
      "F    1525555.0  1.890439e+08  123.918140  1084.918794\n",
      "M    1107639.0  1.589002e+08  143.458438  1434.607819\n",
      "U         24.0  2.075220e+03   86.467500   147.482889\n"
     ]
    }
   ],
   "source": [
    "#Detailed stats for each gender category\n",
    "print(grouped['AMT_PAID'].agg([np.size,np.sum, np.mean, np.std]))"
   ]
  },
  {
   "cell_type": "code",
   "execution_count": 65,
   "metadata": {
    "collapsed": false
   },
   "outputs": [
    {
     "data": {
      "text/plain": [
       "SEX       \n",
       "F    count    1.525555e+06\n",
       "     mean     1.239181e+02\n",
       "     std      1.084919e+03\n",
       "     min      0.000000e+00\n",
       "     25%      0.000000e+00\n",
       "     50%      1.468000e+01\n",
       "     75%      6.800000e+01\n",
       "     max      6.220211e+05\n",
       "M    count    1.107639e+06\n",
       "     mean     1.434584e+02\n",
       "     std      1.434608e+03\n",
       "     min      0.000000e+00\n",
       "     25%      0.000000e+00\n",
       "     50%      1.385000e+01\n",
       "     75%      6.700000e+01\n",
       "     max      2.648348e+05\n",
       "U    count    2.400000e+01\n",
       "     mean     8.646750e+01\n",
       "     std      1.474829e+02\n",
       "     min      0.000000e+00\n",
       "     25%      0.000000e+00\n",
       "     50%      2.827000e+01\n",
       "     75%      7.871000e+01\n",
       "     max      5.493100e+02\n",
       "Name: AMT_PAID, dtype: float64"
      ]
     },
     "execution_count": 65,
     "metadata": {},
     "output_type": "execute_result"
    }
   ],
   "source": [
    "df_cleaned['AMT_PAID'].groupby(df_cleaned['SEX']).describe()"
   ]
  },
  {
   "cell_type": "code",
   "execution_count": 1,
   "metadata": {
    "collapsed": false
   },
   "outputs": [],
   "source": [
    "#print(grouped['AMT_PAID'].agg(np.mean))"
   ]
  },
  {
   "cell_type": "markdown",
   "metadata": {},
   "source": [
    "**1) a.total costs of healthcare by age groups **"
   ]
  },
  {
   "cell_type": "code",
   "execution_count": 2,
   "metadata": {
    "collapsed": false
   },
   "outputs": [],
   "source": [
    "#df_cleaned['AMT_PAID'].groupby(df_cleaned['AGE_GROUPS']).describe()"
   ]
  },
  {
   "cell_type": "code",
   "execution_count": 68,
   "metadata": {
    "collapsed": false
   },
   "outputs": [
    {
     "name": "stdout",
     "output_type": "stream",
     "text": [
      "                 size           sum        mean          std\n",
      "AGE_GROUPS                                                  \n",
      "elders       733123.0  4.656248e+07   63.512503   846.811859\n",
      "middleaged  1324491.0  2.198664e+08  166.000651  1393.404091\n",
      "teens        205580.0  2.673164e+07  130.030343  1290.127962\n",
      "youth        370024.0  5.478569e+07  148.059833  1305.847413\n"
     ]
    }
   ],
   "source": [
    "#grouping the data by the four age groups\n",
    "grouped_age=df_cleaned.groupby(\"AGE_GROUPS\")\n",
    "print(grouped_age['AMT_PAID'].agg([np.size,np.sum, np.mean, np.std]))"
   ]
  },
  {
   "cell_type": "code",
   "execution_count": 70,
   "metadata": {
    "collapsed": false
   },
   "outputs": [
    {
     "data": {
      "image/png": "[encoded data removed]",
      "text/plain": [
       "<matplotlib.figure.Figure at 0x16ab580a588>"
      ]
     },
     "metadata": {},
     "output_type": "display_data"
    }
   ],
   "source": [
    "#maximum expenditure in the claims data due to the middle aged group\n",
    "grouped_age['AMT_PAID'].agg(np.size).plot(kind=\"bar\")\n",
    "plt.show()"
   ]
  },
  {
   "cell_type": "markdown",
   "metadata": {},
   "source": [
    "**b.total costs of healthcare by county of residence**"
   ]
  },
  {
   "cell_type": "code",
   "execution_count": 73,
   "metadata": {
    "collapsed": false,
    "scrolled": true
   },
   "outputs": [
    {
     "name": "stdout",
     "output_type": "stream",
     "text": [
      "                   size           sum        mean          std\n",
      "MEMBER_COUNTY                                                 \n",
      "1.0            144276.0  2.036567e+07  141.157708  1196.809914\n",
      "3.0             94679.0  1.082059e+07  114.287140  1004.400132\n",
      "5.0            117631.0  1.489616e+07  126.634631  1165.693565\n",
      "7.0             58299.0  8.889875e+06  152.487614  1037.067334\n",
      "9.0            137499.0  2.018189e+07  146.778442  1375.298350\n",
      "11.0           665208.0  8.879631e+07  133.486533  1372.739757\n",
      "13.0           301778.0  4.288785e+07  142.117216  1086.533120\n",
      "15.0           575639.0  7.106074e+07  123.446706  1244.591551\n",
      "17.0           197629.0  2.673911e+07  135.299535  1154.934266\n",
      "19.0            69154.0  1.020725e+07  147.601712  1299.884101\n",
      "999.0          271426.0  3.310073e+07  121.951222  1226.962640\n"
     ]
    }
   ],
   "source": [
    "#grouping data by memeber county\n",
    "grouped_county=df_cleaned.groupby(\"MEMBER_COUNTY\")\n",
    "print(grouped_county['AMT_PAID'].agg([np.size,np.sum, np.mean, np.std]))"
   ]
  },
  {
   "cell_type": "code",
   "execution_count": 3,
   "metadata": {
    "collapsed": false
   },
   "outputs": [],
   "source": [
    "#stats per county\n",
    "#df_cleaned['AMT_PAID'].groupby(df_cleaned['MEMBER_COUNTY']).describe()"
   ]
  },
  {
   "cell_type": "markdown",
   "metadata": {},
   "source": [
    "**c)total costs of healthcare by county of in state and out of state patients**"
   ]
  },
  {
   "cell_type": "code",
   "execution_count": null,
   "metadata": {
    "collapsed": true
   },
   "outputs": [],
   "source": [
    "#grouping data into instate and outstate\n",
    "grouped_state=df_cleaned.groupby(\"IN/OUT_STATE\")\n",
    "print(grouped_state['AMT_PAID'].agg([np.size,np.sum, np.mean, np.std]))"
   ]
  },
  {
   "cell_type": "code",
   "execution_count": 81,
   "metadata": {
    "collapsed": true
   },
   "outputs": [],
   "source": [
    "#grouped_state['AMT_PAID'].value_counts().plot(kind=\"bar\")"
   ]
  },
  {
   "cell_type": "code",
   "execution_count": 82,
   "metadata": {
    "collapsed": false
   },
   "outputs": [
    {
     "data": {
      "text/plain": [
       "IN/OUT_STATE       \n",
       "instate       count    2.361792e+06\n",
       "              mean     1.333079e+02\n",
       "              std      1.246028e+03\n",
       "              min      0.000000e+00\n",
       "              25%      0.000000e+00\n",
       "              50%      1.466000e+01\n",
       "              75%      6.900000e+01\n",
       "              max      6.220211e+05\n",
       "outstate      count    2.714260e+05\n",
       "              mean     1.219512e+02\n",
       "              std      1.226963e+03\n",
       "              min      0.000000e+00\n",
       "              25%      0.000000e+00\n",
       "              50%      1.156000e+01\n",
       "              75%      5.465000e+01\n",
       "              max      2.648348e+05\n",
       "Name: AMT_PAID, dtype: float64"
      ]
     },
     "execution_count": 82,
     "metadata": {},
     "output_type": "execute_result"
    }
   ],
   "source": [
    "df_cleaned['AMT_PAID'].groupby(df_cleaned['IN/OUT_STATE']).describe()"
   ]
  },
  {
   "cell_type": "markdown",
   "metadata": {},
   "source": [
    "**d)What health conditions, based on the frequency of primary ICD are most prevalent by state of residence and also by gender?**"
   ]
  },
  {
   "cell_type": "code",
   "execution_count": 83,
   "metadata": {
    "collapsed": false
   },
   "outputs": [
    {
     "data": {
      "text/plain": [
       "Index(['Unnamed: 0', 'ADM_SRC', 'ADM_TYPE', 'AGE', 'AMT_BILLED', 'AMT_COINS',\n",
       "       'AMT_COPAY', 'AMT_DEDUCT', 'AMT_PAID', 'AMT_PREPAID', 'CASES',\n",
       "       'CLAIM_ID_KEY', 'CLIENT_LOS', 'ICD_10_OR_HIGHER', 'ICD_DIAG_01_PRIMARY',\n",
       "       'ICD_DIAG_02', 'ICD_DIAG_03', 'ICD_DIAG_04', 'ICD_DIAG_ADMIT',\n",
       "       'ICD_PROC_01_PRI', 'LOB', 'MEMBER_COUNTY', 'MEMBER_STATE', 'PROC_CODE',\n",
       "       'SEX', 'SV_LINE', 'UB_BILL_TYPE', 'UTILS', 'IN/OUT_STATE',\n",
       "       'AGE_GROUPS'],\n",
       "      dtype='object')"
      ]
     },
     "execution_count": 83,
     "metadata": {},
     "output_type": "execute_result"
    }
   ],
   "source": [
    "#columns present in the DF\n",
    "#df_cleaned.columns"
   ]
  },
  {
   "cell_type": "markdown",
   "metadata": {},
   "source": [
    "** Female Instate**"
   ]
  },
  {
   "cell_type": "code",
   "execution_count": 84,
   "metadata": {
    "collapsed": true
   },
   "outputs": [],
   "source": [
    "df_F=grouped.get_group('F')\n",
    "grouped_F_IN=df_F.groupby(df_F['IN/OUT_STATE'])"
   ]
  },
  {
   "cell_type": "code",
   "execution_count": 85,
   "metadata": {
    "collapsed": true
   },
   "outputs": [],
   "source": [
    "df_F_IN=grouped_F_IN.get_group('instate')\n",
    "F_IN=df_F_IN['ICD_DIAG_01_PRIMARY'].value_counts().head(5)#.plot(kind='bar')\n",
    "#plt.title('Top 5 prevalent health conditions forwomen belonging instate')"
   ]
  },
  {
   "cell_type": "code",
   "execution_count": 86,
   "metadata": {
    "collapsed": false
   },
   "outputs": [
    {
     "data": {
      "text/plain": [
       "Z0000     49126\n",
       "Z1231     36293\n",
       "Z23       24187\n",
       "Z00129    18476\n",
       "M545      16763\n",
       "Name: ICD_DIAG_01_PRIMARY, dtype: int64"
      ]
     },
     "execution_count": 86,
     "metadata": {},
     "output_type": "execute_result"
    }
   ],
   "source": [
    "F_IN"
   ]
  },
  {
   "cell_type": "code",
   "execution_count": 88,
   "metadata": {
    "collapsed": false
   },
   "outputs": [
    {
     "data": {
      "image/png": "[encoded data removed]",
      "text/plain": [
       "<matplotlib.figure.Figure at 0x16acb5e2fd0>"
      ]
     },
     "metadata": {},
     "output_type": "display_data"
    }
   ],
   "source": [
    "#Majority claims in NH for women for medical/health check ups\n",
    "F_IN.plot(kind='bar')\n",
    "plt.title('Top 5 prevalent health conditions for women belonging instate')\n",
    "plt.show()\n"
   ]
  },
  {
   "cell_type": "markdown",
   "metadata": {},
   "source": [
    "**Female,Out of state**"
   ]
  },
  {
   "cell_type": "code",
   "execution_count": 89,
   "metadata": {
    "collapsed": false
   },
   "outputs": [
    {
     "data": {
      "text/plain": [
       "Z0000     5207\n",
       "Z1231     3552\n",
       "Z00129    2803\n",
       "Z23       2703\n",
       "I10       2224\n",
       "Name: ICD_DIAG_01_PRIMARY, dtype: int64"
      ]
     },
     "execution_count": 89,
     "metadata": {},
     "output_type": "execute_result"
    }
   ],
   "source": [
    "#Women visiting New Hampshire from other states come to NH for medical check ups\n",
    "df_F_OUT=grouped_F_IN.get_group('outstate')\n",
    "F_OUT=df_F_OUT['ICD_DIAG_01_PRIMARY'].value_counts().head(5)#.plot(kind='bar')\n",
    "F_OUT"
   ]
  },
  {
   "cell_type": "code",
   "execution_count": 90,
   "metadata": {
    "collapsed": false
   },
   "outputs": [
    {
     "data": {
      "image/png": "[encoded data removed]",
      "text/plain": [
       "<matplotlib.figure.Figure at 0x16ac7fc8128>"
      ]
     },
     "metadata": {},
     "output_type": "display_data"
    }
   ],
   "source": [
    "F_OUT.plot(kind='bar')\n",
    "plt.title('Top 5 prevalent health conditions for women belonging to out of state')\n",
    "plt.show()"
   ]
  },
  {
   "cell_type": "markdown",
   "metadata": {},
   "source": [
    "**Male Instate**"
   ]
  },
  {
   "cell_type": "code",
   "execution_count": 91,
   "metadata": {
    "collapsed": true
   },
   "outputs": [],
   "source": [
    "df_M=grouped.get_group('M')\n",
    "grouped_M_state=df_M.groupby(df_M['IN/OUT_STATE'])\n"
   ]
  },
  {
   "cell_type": "code",
   "execution_count": 92,
   "metadata": {
    "collapsed": false
   },
   "outputs": [
    {
     "data": {
      "text/plain": [
       "Z0000     38565\n",
       "N186      24749\n",
       "Z23       19414\n",
       "G4733     18950\n",
       "Z00129    18261\n",
       "Name: ICD_DIAG_01_PRIMARY, dtype: int64"
      ]
     },
     "execution_count": 92,
     "metadata": {},
     "output_type": "execute_result"
    }
   ],
   "source": [
    "df_M_IN=grouped_M_state.get_group('instate')\n",
    "M_IN=df_M_IN['ICD_DIAG_01_PRIMARY'].value_counts().head(5)#.plot(kind='bar')\n",
    "M_IN"
   ]
  },
  {
   "cell_type": "code",
   "execution_count": 93,
   "metadata": {
    "collapsed": false
   },
   "outputs": [
    {
     "data": {
      "image/png": "[encoded data removed]",
      "text/plain": [
       "<matplotlib.figure.Figure at 0x16acb5e0748>"
      ]
     },
     "metadata": {},
     "output_type": "display_data"
    }
   ],
   "source": [
    "#Majority of the claims in NH by men are for medical/health checkups\n",
    "M_IN.plot(kind='bar')\n",
    "plt.title('Top 5 prevalent health conditions for Men instate')\n",
    "plt.show()"
   ]
  },
  {
   "cell_type": "markdown",
   "metadata": {},
   "source": [
    "**Male out of state**"
   ]
  },
  {
   "cell_type": "code",
   "execution_count": 94,
   "metadata": {
    "collapsed": false
   },
   "outputs": [
    {
     "data": {
      "text/plain": [
       "Z0000     4813\n",
       "Z00129    2807\n",
       "Z23       2383\n",
       "I10       2319\n",
       "N186      2018\n",
       "Name: ICD_DIAG_01_PRIMARY, dtype: int64"
      ]
     },
     "execution_count": 94,
     "metadata": {},
     "output_type": "execute_result"
    }
   ],
   "source": [
    "#Majority of claims from men outside of NH for general checkups\n",
    "df_M_OUT=grouped_M_state.get_group('outstate')\n",
    "M_OUT=df_M_OUT['ICD_DIAG_01_PRIMARY'].value_counts().head(5)#.plot(kind='bar')\n",
    "M_OUT"
   ]
  },
  {
   "cell_type": "code",
   "execution_count": 95,
   "metadata": {
    "collapsed": false
   },
   "outputs": [
    {
     "data": {
      "image/png": "[encoded data removed]",
      "text/plain": [
       "<matplotlib.figure.Figure at 0x16ac7fc1be0>"
      ]
     },
     "metadata": {},
     "output_type": "display_data"
    }
   ],
   "source": [
    "import viridis\n",
    "M_OUT.plot(kind='bar',cmap='viridis')\n",
    "plt.title('Top 5 prevalent health conditions for Men belonging to out of state')\n",
    "plt.show()"
   ]
  },
  {
   "cell_type": "markdown",
   "metadata": {},
   "source": [
    "**c)What health conditions, based on the total cost of care (amount paid) of primary ICD are most prevalent by state of residence and also by gender? **"
   ]
  },
  {
   "cell_type": "markdown",
   "metadata": {},
   "source": [
    "** prevalent ICD for AMT_PAID by Female, Instate**"
   ]
  },
  {
   "cell_type": "code",
   "execution_count": 177,
   "metadata": {
    "collapsed": false
   },
   "outputs": [],
   "source": [
    "disease = pd.read_csv('C:/Users/nisha/Documents/DATA 900/Data Architechture/Big assignment/PUBLICUSE_REF_TABLES/REF_ICD_DIAG.csv')"
   ]
  },
  {
   "cell_type": "code",
   "execution_count": 178,
   "metadata": {
    "collapsed": false
   },
   "outputs": [],
   "source": [
    "df_F_IN_ICD= pd.DataFrame({'ICD_DIAG_01_PRIMARY':F_IN.index, 'freq':F_IN.values})\n"
   ]
  },
  {
   "cell_type": "code",
   "execution_count": 179,
   "metadata": {
    "collapsed": false
   },
   "outputs": [
    {
     "data": {
      "text/plain": [
       "Index(['ICD_DIAG_01_PRIMARY', 'ICD_DIAG_DESC'], dtype='object')"
      ]
     },
     "execution_count": 179,
     "metadata": {},
     "output_type": "execute_result"
    }
   ],
   "source": [
    "disease.columns"
   ]
  },
  {
   "cell_type": "code",
   "execution_count": 180,
   "metadata": {
    "collapsed": true
   },
   "outputs": [],
   "source": [
    "sum_F_IN=[]\n",
    "ICD_F_IN=[]\n",
    "df_F_IN_ICDSum=pd.DataFrame()\n"
   ]
  },
  {
   "cell_type": "code",
   "execution_count": 181,
   "metadata": {
    "collapsed": true
   },
   "outputs": [],
   "source": [
    "ICD=df_F_IN_ICD['ICD_DIAG_01_PRIMARY']\n",
    "sum_F_IN=[]\n",
    "ICD_F_IN=[]\n",
    "for i in range(0,5):\n",
    "  df_F_IN_Prev=df_F_IN[df_F_IN['ICD_DIAG_01_PRIMARY'] ==ICD.values[i]]  \n",
    "  #ICD_F_IN.append(df_F_IN_Prev['ICD_DIAG_01_PRIMARY']) \n",
    "  ICD_F_IN.append(ICD.values[i])\n",
    "  sum_F_IN.append(sum(df_F_IN_Prev['AMT_PAID']))\n",
    " \n"
   ]
  },
  {
   "cell_type": "code",
   "execution_count": 187,
   "metadata": {
    "collapsed": false
   },
   "outputs": [
    {
     "data": {
      "image/png": "[encoded data removed]",
      "text/plain": [
       "<matplotlib.figure.Figure at 0x16ac3582780>"
      ]
     },
     "metadata": {},
     "output_type": "display_data"
    }
   ],
   "source": [
    "df_F_IN_ICDSum['ICD_DIAG_01_PRIMARY']= ICD_F_IN\n",
    "df_F_IN_ICDSum['Amt_Agg']= sum_F_IN\n",
    "\n",
    "df_F_IN_ICDSum.set_index('ICD_DIAG_01_PRIMARY').plot(kind='bar')\n",
    "\n",
    "#plt.xticks(df_F_IN_ICDSum['ICD'],ICD_F_IN)\n",
    "plt.title('Amount paid for Top 5 prevalent health conditions for Female belonging to instate')\n",
    "plt.show()"
   ]
  },
  {
   "cell_type": "code",
   "execution_count": 189,
   "metadata": {
    "collapsed": false
   },
   "outputs": [
    {
     "data": {
      "text/html": [
       "<div>\n",
       "<table border=\"1\" class=\"dataframe\">\n",
       "  <thead>\n",
       "    <tr style=\"text-align: right;\">\n",
       "      <th></th>\n",
       "      <th>ICD_DIAG_01_PRIMARY</th>\n",
       "      <th>Amt_Agg</th>\n",
       "      <th>ICD_DIAG_DESC</th>\n",
       "    </tr>\n",
       "  </thead>\n",
       "  <tbody>\n",
       "    <tr>\n",
       "      <th>0</th>\n",
       "      <td>Z0000</td>\n",
       "      <td>3070774.00</td>\n",
       "      <td>Encntr for general adult medical exam w/o abno...</td>\n",
       "    </tr>\n",
       "    <tr>\n",
       "      <th>1</th>\n",
       "      <td>Z1231</td>\n",
       "      <td>2933415.16</td>\n",
       "      <td>Encntr screen mammogram for malignant neoplasm...</td>\n",
       "    </tr>\n",
       "    <tr>\n",
       "      <th>2</th>\n",
       "      <td>Z23</td>\n",
       "      <td>730108.42</td>\n",
       "      <td>Encounter for immunization</td>\n",
       "    </tr>\n",
       "    <tr>\n",
       "      <th>3</th>\n",
       "      <td>Z00129</td>\n",
       "      <td>1197378.51</td>\n",
       "      <td>Encntr for routine child health exam w/o abnor...</td>\n",
       "    </tr>\n",
       "    <tr>\n",
       "      <th>4</th>\n",
       "      <td>M545</td>\n",
       "      <td>654500.01</td>\n",
       "      <td>Low back pain</td>\n",
       "    </tr>\n",
       "  </tbody>\n",
       "</table>\n",
       "</div>"
      ],
      "text/plain": [
       "  ICD_DIAG_01_PRIMARY     Amt_Agg  \\\n",
       "0               Z0000  3070774.00   \n",
       "1               Z1231  2933415.16   \n",
       "2                 Z23   730108.42   \n",
       "3              Z00129  1197378.51   \n",
       "4                M545   654500.01   \n",
       "\n",
       "                                       ICD_DIAG_DESC  \n",
       "0  Encntr for general adult medical exam w/o abno...  \n",
       "1  Encntr screen mammogram for malignant neoplasm...  \n",
       "2                         Encounter for immunization  \n",
       "3  Encntr for routine child health exam w/o abnor...  \n",
       "4                                      Low back pain  "
      ]
     },
     "execution_count": 189,
     "metadata": {},
     "output_type": "execute_result"
    }
   ],
   "source": [
    "new11 = pd.merge(df_F_IN_ICDSum, disease, how='inner',on=['ICD_DIAG_01_PRIMARY'])\n",
    "new11"
   ]
  },
  {
   "cell_type": "markdown",
   "metadata": {
    "collapsed": true
   },
   "source": [
    "** prevalent ICD for AMT_PAID Female, Outstate**"
   ]
  },
  {
   "cell_type": "code",
   "execution_count": 190,
   "metadata": {
    "collapsed": false
   },
   "outputs": [],
   "source": [
    "df_F_OUT_ICD= pd.DataFrame({'ICD_DIAG_01_PRIMARY':F_OUT.index, 'freq':F_OUT.values})"
   ]
  },
  {
   "cell_type": "code",
   "execution_count": 191,
   "metadata": {
    "collapsed": true
   },
   "outputs": [],
   "source": [
    "sum_F_OUT=[]\n",
    "ICD_F_OUT=[]\n",
    "df_F_OUT_ICDSum=pd.DataFrame()\n"
   ]
  },
  {
   "cell_type": "code",
   "execution_count": 197,
   "metadata": {
    "collapsed": true
   },
   "outputs": [],
   "source": [
    "ICD=df_F_OUT_ICD['ICD_DIAG_01_PRIMARY']\n",
    "sum_F_OUT=[]\n",
    "ICD_F_OUT=[]\n",
    "for i in range(0,5):\n",
    "  df_F_OUT_Prev=df_F_OUT[df_F_OUT['ICD_DIAG_01_PRIMARY'] ==ICD.values[i]]  \n",
    "  #ICD_F_IN.append(df_F_IN_Prev['ICD_DIAG_01_PRIMARY']) \n",
    "  ICD_F_OUT.append(ICD.values[i])\n",
    "  sum_F_OUT.append(sum(df_F_OUT_Prev['AMT_PAID']))\n",
    " \n"
   ]
  },
  {
   "cell_type": "code",
   "execution_count": 198,
   "metadata": {
    "collapsed": false
   },
   "outputs": [
    {
     "data": {
      "image/png": "[encoded data removed]",
      "text/plain": [
       "<matplotlib.figure.Figure at 0x16ac36b0f60>"
      ]
     },
     "metadata": {},
     "output_type": "display_data"
    }
   ],
   "source": [
    "df_F_OUT_ICDSum['ICD_DIAG_01_PRIMARY']= ICD_F_OUT\n",
    "df_F_OUT_ICDSum['Amt_Agg']= sum_F_OUT\n",
    "\n",
    "df_F_OUT_ICDSum.set_index('ICD_DIAG_01_PRIMARY').plot(kind='bar',color='r')\n",
    "#plt.xticks(df_F_IN_ICDSum['ICD'],ICD_F_IN)\n",
    "plt.title('Amount paid for Top 5 prevalent health conditions for Female belonging to out of state')\n",
    "plt.show()"
   ]
  },
  {
   "cell_type": "code",
   "execution_count": 207,
   "metadata": {
    "collapsed": false
   },
   "outputs": [
    {
     "data": {
      "text/html": [
       "<div>\n",
       "<table border=\"1\" class=\"dataframe\">\n",
       "  <thead>\n",
       "    <tr style=\"text-align: right;\">\n",
       "      <th></th>\n",
       "      <th>ICD_DIAG_01_PRIMARY</th>\n",
       "      <th>Amt_Agg</th>\n",
       "      <th>ICD_DIAG_DESC</th>\n",
       "    </tr>\n",
       "  </thead>\n",
       "  <tbody>\n",
       "    <tr>\n",
       "      <th>0</th>\n",
       "      <td>Z0000</td>\n",
       "      <td>281130.32</td>\n",
       "      <td>Encntr for general adult medical exam w/o abno...</td>\n",
       "    </tr>\n",
       "    <tr>\n",
       "      <th>1</th>\n",
       "      <td>Z1231</td>\n",
       "      <td>229434.51</td>\n",
       "      <td>Encntr screen mammogram for malignant neoplasm...</td>\n",
       "    </tr>\n",
       "    <tr>\n",
       "      <th>2</th>\n",
       "      <td>Z00129</td>\n",
       "      <td>159897.31</td>\n",
       "      <td>Encntr for routine child health exam w/o abnor...</td>\n",
       "    </tr>\n",
       "    <tr>\n",
       "      <th>3</th>\n",
       "      <td>Z23</td>\n",
       "      <td>78246.68</td>\n",
       "      <td>Encounter for immunization</td>\n",
       "    </tr>\n",
       "    <tr>\n",
       "      <th>4</th>\n",
       "      <td>I10</td>\n",
       "      <td>55469.26</td>\n",
       "      <td>Essential (primary) hypertension</td>\n",
       "    </tr>\n",
       "  </tbody>\n",
       "</table>\n",
       "</div>"
      ],
      "text/plain": [
       "  ICD_DIAG_01_PRIMARY    Amt_Agg  \\\n",
       "0               Z0000  281130.32   \n",
       "1               Z1231  229434.51   \n",
       "2              Z00129  159897.31   \n",
       "3                 Z23   78246.68   \n",
       "4                 I10   55469.26   \n",
       "\n",
       "                                       ICD_DIAG_DESC  \n",
       "0  Encntr for general adult medical exam w/o abno...  \n",
       "1  Encntr screen mammogram for malignant neoplasm...  \n",
       "2  Encntr for routine child health exam w/o abnor...  \n",
       "3                         Encounter for immunization  \n",
       "4                   Essential (primary) hypertension  "
      ]
     },
     "execution_count": 207,
     "metadata": {},
     "output_type": "execute_result"
    }
   ],
   "source": [
    "new2 = pd.merge(df_F_OUT_ICDSum, disease, how='inner',on=['ICD_DIAG_01_PRIMARY'])\n",
    "cols=['ICD_DIAG_01_PRIMARY','Amt_Agg','ICD_DIAG_DESC']\n",
    "new2[cols]"
   ]
  },
  {
   "cell_type": "markdown",
   "metadata": {},
   "source": [
    "** prevalent ICD for AMT_PAID by Male, Intstate**"
   ]
  },
  {
   "cell_type": "code",
   "execution_count": 208,
   "metadata": {
    "collapsed": false
   },
   "outputs": [],
   "source": [
    "df_M_IN_ICD= pd.DataFrame({'ICD_DIAG_01_PRIMARY':M_IN.index, 'freq':M_IN.values})\n"
   ]
  },
  {
   "cell_type": "code",
   "execution_count": 209,
   "metadata": {
    "collapsed": true
   },
   "outputs": [],
   "source": [
    "sum_M_IN=[]\n",
    "ICD_M_IN=[]\n",
    "df_M_IN_ICDSum=pd.DataFrame()\n"
   ]
  },
  {
   "cell_type": "code",
   "execution_count": 210,
   "metadata": {
    "collapsed": true
   },
   "outputs": [],
   "source": [
    "ICD=df_M_IN_ICD['ICD_DIAG_01_PRIMARY']\n",
    "sum_M_IN=[]\n",
    "ICD_M_IN=[]\n",
    "for i in range(0,5):\n",
    "  df_M_IN_Prev=df_M_IN[df_M_IN['ICD_DIAG_01_PRIMARY'] ==ICD.values[i]]  \n",
    "  #ICD_F_IN.append(df_F_IN_Prev['ICD_DIAG_01_PRIMARY']) \n",
    "  ICD_M_IN.append(ICD.values[i])\n",
    "  sum_M_IN.append(sum(df_M_IN_Prev['AMT_PAID']))\n",
    " \n"
   ]
  },
  {
   "cell_type": "code",
   "execution_count": 211,
   "metadata": {
    "collapsed": false
   },
   "outputs": [
    {
     "data": {
      "image/png": "[encoded data removed]",
      "text/plain": [
       "<matplotlib.figure.Figure at 0x16ac36be940>"
      ]
     },
     "metadata": {},
     "output_type": "display_data"
    }
   ],
   "source": [
    "df_M_IN_ICDSum['ICD_DIAG_01_PRIMARY']= ICD_M_IN\n",
    "df_M_IN_ICDSum['Amt_Agg']= sum_M_IN\n",
    "\n",
    "df_M_IN_ICDSum.set_index('ICD_DIAG_01_PRIMARY','AMT_PAID agg.').plot(kind='bar',color='g')\n",
    "#plt.xticks(df_F_IN_ICDSum['ICD'],ICD_F_IN)\n",
    "plt.title('Amount paid for Top 5 prevalent health conditions for Men belonging to instate')\n",
    "plt.show()"
   ]
  },
  {
   "cell_type": "code",
   "execution_count": 214,
   "metadata": {
    "collapsed": false
   },
   "outputs": [
    {
     "data": {
      "text/html": [
       "<div>\n",
       "<table border=\"1\" class=\"dataframe\">\n",
       "  <thead>\n",
       "    <tr style=\"text-align: right;\">\n",
       "      <th></th>\n",
       "      <th>ICD_DIAG_01_PRIMARY</th>\n",
       "      <th>Amt_Agg</th>\n",
       "      <th>ICD_DIAG_DESC</th>\n",
       "    </tr>\n",
       "  </thead>\n",
       "  <tbody>\n",
       "    <tr>\n",
       "      <th>0</th>\n",
       "      <td>Z0000</td>\n",
       "      <td>2406101.67</td>\n",
       "      <td>Encntr for general adult medical exam w/o abno...</td>\n",
       "    </tr>\n",
       "    <tr>\n",
       "      <th>1</th>\n",
       "      <td>N186</td>\n",
       "      <td>2218627.12</td>\n",
       "      <td>End stage renal disease</td>\n",
       "    </tr>\n",
       "    <tr>\n",
       "      <th>2</th>\n",
       "      <td>Z23</td>\n",
       "      <td>587233.12</td>\n",
       "      <td>Encounter for immunization</td>\n",
       "    </tr>\n",
       "    <tr>\n",
       "      <th>3</th>\n",
       "      <td>G4733</td>\n",
       "      <td>949118.60</td>\n",
       "      <td>Obstructive sleep apnea (adult) (pediatric)</td>\n",
       "    </tr>\n",
       "    <tr>\n",
       "      <th>4</th>\n",
       "      <td>Z00129</td>\n",
       "      <td>1194350.01</td>\n",
       "      <td>Encntr for routine child health exam w/o abnor...</td>\n",
       "    </tr>\n",
       "  </tbody>\n",
       "</table>\n",
       "</div>"
      ],
      "text/plain": [
       "  ICD_DIAG_01_PRIMARY     Amt_Agg  \\\n",
       "0               Z0000  2406101.67   \n",
       "1                N186  2218627.12   \n",
       "2                 Z23   587233.12   \n",
       "3               G4733   949118.60   \n",
       "4              Z00129  1194350.01   \n",
       "\n",
       "                                       ICD_DIAG_DESC  \n",
       "0  Encntr for general adult medical exam w/o abno...  \n",
       "1                            End stage renal disease  \n",
       "2                         Encounter for immunization  \n",
       "3        Obstructive sleep apnea (adult) (pediatric)  \n",
       "4  Encntr for routine child health exam w/o abnor...  "
      ]
     },
     "execution_count": 214,
     "metadata": {},
     "output_type": "execute_result"
    }
   ],
   "source": [
    "new3 = pd.merge(df_M_IN_ICDSum, disease, how='inner',on=['ICD_DIAG_01_PRIMARY'] )\n",
    "new3[cols]"
   ]
  },
  {
   "cell_type": "markdown",
   "metadata": {},
   "source": [
    "** prevalent ICD for AMT_PAID Male, Outstate**"
   ]
  },
  {
   "cell_type": "code",
   "execution_count": 215,
   "metadata": {
    "collapsed": false,
    "scrolled": true
   },
   "outputs": [],
   "source": [
    "df_M_OUT_ICD= pd.DataFrame({'ICD_DIAG_01_PRIMARY':M_OUT.index, 'freq':M_OUT.values})\n"
   ]
  },
  {
   "cell_type": "code",
   "execution_count": 216,
   "metadata": {
    "collapsed": true
   },
   "outputs": [],
   "source": [
    "sum_M_OUT=[]\n",
    "ICD_M_OUT=[]\n",
    "df_M_OUT_ICDSum=pd.DataFrame()\n"
   ]
  },
  {
   "cell_type": "code",
   "execution_count": 218,
   "metadata": {
    "collapsed": true
   },
   "outputs": [],
   "source": [
    "ICD=df_M_OUT_ICD['ICD_DIAG_01_PRIMARY']\n",
    "sum_M_OUT=[]\n",
    "ICD_M_OUT=[]\n",
    "for i in range(0,5):\n",
    "  df_M_OUT_Prev=df_M_OUT[df_M_OUT['ICD_DIAG_01_PRIMARY'] ==ICD.values[i]]  \n",
    "  #ICD_F_IN.append(df_F_IN_Prev['ICD_DIAG_01_PRIMARY']) \n",
    "  ICD_M_OUT.append(ICD.values[i])\n",
    "  sum_M_OUT.append(sum(df_M_OUT_Prev['AMT_PAID']))\n",
    " \n"
   ]
  },
  {
   "cell_type": "code",
   "execution_count": 223,
   "metadata": {
    "collapsed": false,
    "scrolled": true
   },
   "outputs": [
    {
     "data": {
      "image/png": "[encoded data removed]",
      "text/plain": [
       "<matplotlib.figure.Figure at 0x16ac36c9940>"
      ]
     },
     "metadata": {},
     "output_type": "display_data"
    }
   ],
   "source": [
    "df_M_OUT_ICDSum['ICD_DIAG_01_PRIMARY']= ICD_M_OUT\n",
    "df_M_OUT_ICDSum['Amt_Agg']= sum_M_OUT\n",
    "df_M_OUT_ICDSum.set_index('ICD_DIAG_01_PRIMARY','AMT_PAID agg.').plot(kind='bar',color='g')\n",
    "#plt.xticks(df_F_IN_ICDSum['ICD'],ICD_F_IN)\n",
    "plt.title('Amount paid for Top 5 prevalent health conditions for Men belonging to out of state')\n",
    "plt.show()"
   ]
  },
  {
   "cell_type": "code",
   "execution_count": 222,
   "metadata": {
    "collapsed": false
   },
   "outputs": [
    {
     "data": {
      "text/html": [
       "<div>\n",
       "<table border=\"1\" class=\"dataframe\">\n",
       "  <thead>\n",
       "    <tr style=\"text-align: right;\">\n",
       "      <th></th>\n",
       "      <th>ICD_DIAG_01_PRIMARY</th>\n",
       "      <th>Amt_Agg</th>\n",
       "      <th>ICD_DIAG_DESC</th>\n",
       "    </tr>\n",
       "  </thead>\n",
       "  <tbody>\n",
       "    <tr>\n",
       "      <th>0</th>\n",
       "      <td>Z0000</td>\n",
       "      <td>244615.32</td>\n",
       "      <td>Encntr for general adult medical exam w/o abno...</td>\n",
       "    </tr>\n",
       "    <tr>\n",
       "      <th>1</th>\n",
       "      <td>Z00129</td>\n",
       "      <td>157121.53</td>\n",
       "      <td>Encntr for routine child health exam w/o abnor...</td>\n",
       "    </tr>\n",
       "    <tr>\n",
       "      <th>2</th>\n",
       "      <td>Z23</td>\n",
       "      <td>77300.65</td>\n",
       "      <td>Encounter for immunization</td>\n",
       "    </tr>\n",
       "    <tr>\n",
       "      <th>3</th>\n",
       "      <td>I10</td>\n",
       "      <td>70920.82</td>\n",
       "      <td>Essential (primary) hypertension</td>\n",
       "    </tr>\n",
       "    <tr>\n",
       "      <th>4</th>\n",
       "      <td>N186</td>\n",
       "      <td>182071.00</td>\n",
       "      <td>End stage renal disease</td>\n",
       "    </tr>\n",
       "  </tbody>\n",
       "</table>\n",
       "</div>"
      ],
      "text/plain": [
       "  ICD_DIAG_01_PRIMARY    Amt_Agg  \\\n",
       "0               Z0000  244615.32   \n",
       "1              Z00129  157121.53   \n",
       "2                 Z23   77300.65   \n",
       "3                 I10   70920.82   \n",
       "4                N186  182071.00   \n",
       "\n",
       "                                       ICD_DIAG_DESC  \n",
       "0  Encntr for general adult medical exam w/o abno...  \n",
       "1  Encntr for routine child health exam w/o abnor...  \n",
       "2                         Encounter for immunization  \n",
       "3                   Essential (primary) hypertension  \n",
       "4                            End stage renal disease  "
      ]
     },
     "execution_count": 222,
     "metadata": {},
     "output_type": "execute_result"
    }
   ],
   "source": [
    "new4 = pd.merge(df_M_OUT_ICDSum, disease, how='inner',on=['ICD_DIAG_01_PRIMARY'] )\n",
    "new4[cols]"
   ]
  },
  {
   "cell_type": "markdown",
   "metadata": {},
   "source": [
    "## 2. Analysis of health conditions"
   ]
  },
  {
   "cell_type": "markdown",
   "metadata": {},
   "source": [
    "**Top 3 expensive health conditions for NH residents by AMT_BILLED**"
   ]
  },
  {
   "cell_type": "code",
   "execution_count": 236,
   "metadata": {
    "collapsed": true
   },
   "outputs": [],
   "source": [
    "# Grouping the data by in/out state\n",
    "grouped_residents=df_cleaned.groupby(df_F['IN/OUT_STATE'])\n",
    "df_IN=grouped_residents.get_group('instate')"
   ]
  },
  {
   "cell_type": "code",
   "execution_count": 237,
   "metadata": {
    "collapsed": false
   },
   "outputs": [
    {
     "data": {
      "text/plain": [
       "0    3980.00\n",
       "1     405.78\n",
       "2    3980.00\n",
       "3      68.85\n",
       "7     158.00\n",
       "Name: AMT_BILLED, dtype: float64"
      ]
     },
     "execution_count": 237,
     "metadata": {},
     "output_type": "execute_result"
    }
   ],
   "source": [
    "# for in state\n",
    "df_IN['AMT_BILLED'].head(5)"
   ]
  },
  {
   "cell_type": "code",
   "execution_count": 238,
   "metadata": {
    "collapsed": false
   },
   "outputs": [
    {
     "name": "stderr",
     "output_type": "stream",
     "text": [
      "C:\\Users\\nisha\\AppData\\Local\\Continuum\\Anaconda3\\lib\\site-packages\\ipykernel\\__main__.py:1: SettingWithCopyWarning: \n",
      "A value is trying to be set on a copy of a slice from a DataFrame\n",
      "\n",
      "See the caveats in the documentation: http://pandas.pydata.org/pandas-docs/stable/indexing.html#indexing-view-versus-copy\n",
      "  if __name__ == '__main__':\n"
     ]
    }
   ],
   "source": [
    "df_IN.drop(df_IN[df_IN.AMT_BILLED < 0].index, inplace=True)"
   ]
  },
  {
   "cell_type": "code",
   "execution_count": 239,
   "metadata": {
    "collapsed": false
   },
   "outputs": [
    {
     "name": "stderr",
     "output_type": "stream",
     "text": [
      "C:\\Users\\nisha\\AppData\\Local\\Continuum\\Anaconda3\\lib\\site-packages\\ipykernel\\__main__.py:1: FutureWarning: sort(columns=....) is deprecated, use sort_values(by=.....)\n",
      "  if __name__ == '__main__':\n"
     ]
    }
   ],
   "source": [
    "df_IN_BILLED = df_IN.sort(['AMT_BILLED'],ascending=False)"
   ]
  },
  {
   "cell_type": "code",
   "execution_count": null,
   "metadata": {
    "collapsed": true
   },
   "outputs": [],
   "source": [
    "cols = ['AMT_BILLED','ICD_DIAG_01_PRIMARY']\n",
    "alpha = df_IN_BILLED[cols].head(3)\n",
    "#df_IN_BILLED['AMT_BILLED','ICD_DIAG_01_PRIMARY'].head(5)\n",
    "alpha\n"
   ]
  },
  {
   "cell_type": "code",
   "execution_count": 251,
   "metadata": {
    "collapsed": false
   },
   "outputs": [
    {
     "data": {
      "text/html": [
       "<div>\n",
       "<table border=\"1\" class=\"dataframe\">\n",
       "  <thead>\n",
       "    <tr style=\"text-align: right;\">\n",
       "      <th></th>\n",
       "      <th>AMT_BILLED</th>\n",
       "      <th>ICD_DIAG_01_PRIMARY</th>\n",
       "      <th>ICD_DIAG_DESC</th>\n",
       "    </tr>\n",
       "  </thead>\n",
       "  <tbody>\n",
       "    <tr>\n",
       "      <th>0</th>\n",
       "      <td>382801.77</td>\n",
       "      <td>C8339</td>\n",
       "      <td>Diffuse large B-cell lymphoma, extrnod and sol...</td>\n",
       "    </tr>\n",
       "    <tr>\n",
       "      <th>1</th>\n",
       "      <td>375455.00</td>\n",
       "      <td>J9602</td>\n",
       "      <td>Acute respiratory failure with hypercapnia</td>\n",
       "    </tr>\n",
       "    <tr>\n",
       "      <th>2</th>\n",
       "      <td>348981.51</td>\n",
       "      <td>O364XX0</td>\n",
       "      <td>Maternal care for intrauterine death, not appl...</td>\n",
       "    </tr>\n",
       "  </tbody>\n",
       "</table>\n",
       "</div>"
      ],
      "text/plain": [
       "   AMT_BILLED ICD_DIAG_01_PRIMARY  \\\n",
       "0   382801.77               C8339   \n",
       "1   375455.00               J9602   \n",
       "2   348981.51             O364XX0   \n",
       "\n",
       "                                       ICD_DIAG_DESC  \n",
       "0  Diffuse large B-cell lymphoma, extrnod and sol...  \n",
       "1         Acute respiratory failure with hypercapnia  \n",
       "2  Maternal care for intrauterine death, not appl...  "
      ]
     },
     "execution_count": 251,
     "metadata": {},
     "output_type": "execute_result"
    }
   ],
   "source": [
    "new5 = pd.merge(alpha, disease, how='inner',on=['ICD_DIAG_01_PRIMARY'] )\n",
    "new5"
   ]
  },
  {
   "cell_type": "markdown",
   "metadata": {},
   "source": [
    "**Top 3 expensive health conditions for out of state residents by AMT_BILLED**"
   ]
  },
  {
   "cell_type": "code",
   "execution_count": 252,
   "metadata": {
    "collapsed": true
   },
   "outputs": [],
   "source": [
    "# Grouping the data by in/out state\n",
    "grouped_residents=df_cleaned.groupby(df_F['IN/OUT_STATE'])\n",
    "df_OUT=grouped_residents.get_group('outstate')"
   ]
  },
  {
   "cell_type": "code",
   "execution_count": 264,
   "metadata": {
    "collapsed": false
   },
   "outputs": [
    {
     "name": "stderr",
     "output_type": "stream",
     "text": [
      "C:\\Users\\nisha\\AppData\\Local\\Continuum\\Anaconda3\\lib\\site-packages\\ipykernel\\__main__.py:1: SettingWithCopyWarning: \n",
      "A value is trying to be set on a copy of a slice from a DataFrame\n",
      "\n",
      "See the caveats in the documentation: http://pandas.pydata.org/pandas-docs/stable/indexing.html#indexing-view-versus-copy\n",
      "  if __name__ == '__main__':\n"
     ]
    }
   ],
   "source": [
    "df_OUT.drop(df_OUT[df_OUT.AMT_BILLED < 0].index, inplace=True)"
   ]
  },
  {
   "cell_type": "code",
   "execution_count": 268,
   "metadata": {
    "collapsed": false
   },
   "outputs": [
    {
     "name": "stderr",
     "output_type": "stream",
     "text": [
      "C:\\Users\\nisha\\AppData\\Local\\Continuum\\Anaconda3\\lib\\site-packages\\ipykernel\\__main__.py:1: FutureWarning: sort(columns=....) is deprecated, use sort_values(by=.....)\n",
      "  if __name__ == '__main__':\n"
     ]
    },
    {
     "data": {
      "text/plain": [
       "2433023    231206.00\n",
       "2388892    194210.63\n",
       "2433019    184608.00\n",
       "2422638    135283.82\n",
       "1957398    134356.15\n",
       "Name: AMT_BILLED, dtype: float64"
      ]
     },
     "execution_count": 268,
     "metadata": {},
     "output_type": "execute_result"
    }
   ],
   "source": [
    "df_OUT_BILLED = df_OUT.sort(['AMT_BILLED'],ascending=False)\n",
    "df_OUT_BILLED['AMT_BILLED'].head(5)"
   ]
  },
  {
   "cell_type": "code",
   "execution_count": 269,
   "metadata": {
    "collapsed": false
   },
   "outputs": [
    {
     "data": {
      "text/html": [
       "<div>\n",
       "<table border=\"1\" class=\"dataframe\">\n",
       "  <thead>\n",
       "    <tr style=\"text-align: right;\">\n",
       "      <th></th>\n",
       "      <th>AMT_BILLED</th>\n",
       "      <th>ICD_DIAG_01_PRIMARY</th>\n",
       "    </tr>\n",
       "  </thead>\n",
       "  <tbody>\n",
       "    <tr>\n",
       "      <th>2433023</th>\n",
       "      <td>231206.00</td>\n",
       "      <td>Z3800</td>\n",
       "    </tr>\n",
       "    <tr>\n",
       "      <th>2388892</th>\n",
       "      <td>194210.63</td>\n",
       "      <td>K5641</td>\n",
       "    </tr>\n",
       "    <tr>\n",
       "      <th>2433019</th>\n",
       "      <td>184608.00</td>\n",
       "      <td>Z3800</td>\n",
       "    </tr>\n",
       "    <tr>\n",
       "      <th>2422638</th>\n",
       "      <td>135283.82</td>\n",
       "      <td>Z421</td>\n",
       "    </tr>\n",
       "  </tbody>\n",
       "</table>\n",
       "</div>"
      ],
      "text/plain": [
       "         AMT_BILLED ICD_DIAG_01_PRIMARY\n",
       "2433023   231206.00               Z3800\n",
       "2388892   194210.63               K5641\n",
       "2433019   184608.00               Z3800\n",
       "2422638   135283.82                Z421"
      ]
     },
     "execution_count": 269,
     "metadata": {},
     "output_type": "execute_result"
    }
   ],
   "source": [
    "cols = ['AMT_BILLED','ICD_DIAG_01_PRIMARY']\n",
    "beta = df_OUT_BILLED[cols].head(4)\n",
    "beta\n",
    "\n",
    "#df_IN_BILLED['AMT_BILLED','ICD_DIAG_01_PRIMARY'].head(5)"
   ]
  },
  {
   "cell_type": "code",
   "execution_count": 270,
   "metadata": {
    "collapsed": false
   },
   "outputs": [
    {
     "data": {
      "text/html": [
       "<div>\n",
       "<table border=\"1\" class=\"dataframe\">\n",
       "  <thead>\n",
       "    <tr style=\"text-align: right;\">\n",
       "      <th></th>\n",
       "      <th>AMT_BILLED</th>\n",
       "      <th>ICD_DIAG_01_PRIMARY</th>\n",
       "      <th>ICD_DIAG_DESC</th>\n",
       "    </tr>\n",
       "  </thead>\n",
       "  <tbody>\n",
       "    <tr>\n",
       "      <th>0</th>\n",
       "      <td>231206.00</td>\n",
       "      <td>Z3800</td>\n",
       "      <td>Single liveborn infant, delivered vaginally</td>\n",
       "    </tr>\n",
       "    <tr>\n",
       "      <th>1</th>\n",
       "      <td>184608.00</td>\n",
       "      <td>Z3800</td>\n",
       "      <td>Single liveborn infant, delivered vaginally</td>\n",
       "    </tr>\n",
       "    <tr>\n",
       "      <th>2</th>\n",
       "      <td>194210.63</td>\n",
       "      <td>K5641</td>\n",
       "      <td>Fecal impaction</td>\n",
       "    </tr>\n",
       "    <tr>\n",
       "      <th>3</th>\n",
       "      <td>135283.82</td>\n",
       "      <td>Z421</td>\n",
       "      <td>Encounter for breast reconstruction following ...</td>\n",
       "    </tr>\n",
       "  </tbody>\n",
       "</table>\n",
       "</div>"
      ],
      "text/plain": [
       "   AMT_BILLED ICD_DIAG_01_PRIMARY  \\\n",
       "0   231206.00               Z3800   \n",
       "1   184608.00               Z3800   \n",
       "2   194210.63               K5641   \n",
       "3   135283.82                Z421   \n",
       "\n",
       "                                       ICD_DIAG_DESC  \n",
       "0        Single liveborn infant, delivered vaginally  \n",
       "1        Single liveborn infant, delivered vaginally  \n",
       "2                                    Fecal impaction  \n",
       "3  Encounter for breast reconstruction following ...  "
      ]
     },
     "execution_count": 270,
     "metadata": {},
     "output_type": "execute_result"
    }
   ],
   "source": [
    "new5 = pd.merge(beta, disease, how='inner',on=['ICD_DIAG_01_PRIMARY'] )\n",
    "new5"
   ]
  },
  {
   "cell_type": "markdown",
   "metadata": {},
   "source": [
    "# 3. Analysis of the sickest patients"
   ]
  },
  {
   "cell_type": "code",
   "execution_count": 271,
   "metadata": {
    "collapsed": false
   },
   "outputs": [
    {
     "name": "stderr",
     "output_type": "stream",
     "text": [
      "C:\\Users\\nisha\\AppData\\Local\\Continuum\\Anaconda3\\lib\\site-packages\\ipykernel\\__main__.py:2: FutureWarning: sort(columns=....) is deprecated, use sort_values(by=.....)\n",
      "  from ipykernel import kernelapp as app\n"
     ]
    }
   ],
   "source": [
    "# sorting the original data by SV_LINE in descending order \n",
    "df_SV = df_cleaned.sort(['SV_LINE'],ascending=False)"
   ]
  },
  {
   "cell_type": "code",
   "execution_count": 272,
   "metadata": {
    "collapsed": false
   },
   "outputs": [
    {
     "data": {
      "text/html": [
       "<div>\n",
       "<table border=\"1\" class=\"dataframe\">\n",
       "  <thead>\n",
       "    <tr style=\"text-align: right;\">\n",
       "      <th></th>\n",
       "      <th>SV_LINE</th>\n",
       "      <th>CLAIM_ID_KEY</th>\n",
       "      <th>ICD_DIAG_01_PRIMARY</th>\n",
       "    </tr>\n",
       "  </thead>\n",
       "  <tbody>\n",
       "    <tr>\n",
       "      <th>44792</th>\n",
       "      <td>2060.0</td>\n",
       "      <td>118704380</td>\n",
       "      <td>T8641</td>\n",
       "    </tr>\n",
       "  </tbody>\n",
       "</table>\n",
       "</div>"
      ],
      "text/plain": [
       "       SV_LINE  CLAIM_ID_KEY ICD_DIAG_01_PRIMARY\n",
       "44792   2060.0     118704380               T8641"
      ]
     },
     "execution_count": 272,
     "metadata": {},
     "output_type": "execute_result"
    }
   ],
   "source": [
    "# assumed first row as sickest\n",
    "cols = ['SV_LINE','CLAIM_ID_KEY','ICD_DIAG_01_PRIMARY']\n",
    "sickest=df_SV[cols].head(1)\n",
    "sickest"
   ]
  },
  {
   "cell_type": "code",
   "execution_count": 273,
   "metadata": {
    "collapsed": false
   },
   "outputs": [
    {
     "data": {
      "text/plain": [
       "array([118704380], dtype=int64)"
      ]
     },
     "execution_count": 273,
     "metadata": {},
     "output_type": "execute_result"
    }
   ],
   "source": [
    "sickest['CLAIM_ID_KEY'].values"
   ]
  },
  {
   "cell_type": "code",
   "execution_count": 336,
   "metadata": {
    "collapsed": false
   },
   "outputs": [
    {
     "data": {
      "text/plain": [
       "(206, 30)"
      ]
     },
     "execution_count": 336,
     "metadata": {},
     "output_type": "execute_result"
    }
   ],
   "source": [
    "df_Sickest = df_SV[(df_SV['CLAIM_ID_KEY'] == 118704380)]\n",
    "df_Sickest.shape"
   ]
  },
  {
   "cell_type": "code",
   "execution_count": 341,
   "metadata": {
    "collapsed": false
   },
   "outputs": [
    {
     "data": {
      "text/plain": [
       "22222.119999999977"
      ]
     },
     "execution_count": 341,
     "metadata": {},
     "output_type": "execute_result"
    }
   ],
   "source": [
    "np.sum(df_Sickest['AMT_BILLED'])"
   ]
  },
  {
   "cell_type": "markdown",
   "metadata": {},
   "source": [
    " OR group by claim_ID and agrregate their AMT_BILLED to find the sickest one."
   ]
  },
  {
   "cell_type": "code",
   "execution_count": 286,
   "metadata": {
    "collapsed": false
   },
   "outputs": [
    {
     "name": "stderr",
     "output_type": "stream",
     "text": [
      "C:\\Users\\nisha\\AppData\\Local\\Continuum\\Anaconda3\\lib\\site-packages\\ipykernel\\__main__.py:6: FutureWarning: sort(columns=....) is deprecated, use sort_values(by=.....)\n"
     ]
    },
    {
     "data": {
      "text/html": [
       "<div>\n",
       "<table border=\"1\" class=\"dataframe\">\n",
       "  <thead>\n",
       "    <tr style=\"text-align: right;\">\n",
       "      <th></th>\n",
       "      <th>CLAIM_ID_KEY</th>\n",
       "      <th>ICD_DIAG_01_PRIMARY</th>\n",
       "      <th>AMT_BILLED</th>\n",
       "      <th>ICD_DIAG_DESC</th>\n",
       "    </tr>\n",
       "  </thead>\n",
       "  <tbody>\n",
       "    <tr>\n",
       "      <th>0</th>\n",
       "      <td>119396347</td>\n",
       "      <td>E840</td>\n",
       "      <td>1710110.28</td>\n",
       "      <td>Cystic fibrosis with pulmonary manifestations</td>\n",
       "    </tr>\n",
       "    <tr>\n",
       "      <th>1</th>\n",
       "      <td>118160849</td>\n",
       "      <td>M5117</td>\n",
       "      <td>1630984.16</td>\n",
       "      <td>Intvrt disc disorders w radiculopathy, lumbosa...</td>\n",
       "    </tr>\n",
       "    <tr>\n",
       "      <th>2</th>\n",
       "      <td>251428539</td>\n",
       "      <td>D61810</td>\n",
       "      <td>1066907.06</td>\n",
       "      <td>Antineoplastic chemotherapy induced pancytopenia</td>\n",
       "    </tr>\n",
       "    <tr>\n",
       "      <th>3</th>\n",
       "      <td>118225542</td>\n",
       "      <td>C8339</td>\n",
       "      <td>1066783.54</td>\n",
       "      <td>Diffuse large B-cell lymphoma, extrnod and sol...</td>\n",
       "    </tr>\n",
       "    <tr>\n",
       "      <th>4</th>\n",
       "      <td>118347258</td>\n",
       "      <td>A419</td>\n",
       "      <td>919547.64</td>\n",
       "      <td>Sepsis, unspecified organism</td>\n",
       "    </tr>\n",
       "  </tbody>\n",
       "</table>\n",
       "</div>"
      ],
      "text/plain": [
       "   CLAIM_ID_KEY ICD_DIAG_01_PRIMARY  AMT_BILLED  \\\n",
       "0     119396347                E840  1710110.28   \n",
       "1     118160849               M5117  1630984.16   \n",
       "2     251428539              D61810  1066907.06   \n",
       "3     118225542               C8339  1066783.54   \n",
       "4     118347258                A419   919547.64   \n",
       "\n",
       "                                       ICD_DIAG_DESC  \n",
       "0      Cystic fibrosis with pulmonary manifestations  \n",
       "1  Intvrt disc disorders w radiculopathy, lumbosa...  \n",
       "2   Antineoplastic chemotherapy induced pancytopenia  \n",
       "3  Diffuse large B-cell lymphoma, extrnod and sol...  \n",
       "4                       Sepsis, unspecified organism  "
      ]
     },
     "execution_count": 286,
     "metadata": {},
     "output_type": "execute_result"
    }
   ],
   "source": [
    "#instate\n",
    "grouped_state = df_cleaned.groupby(\"IN/OUT_STATE\")\n",
    "ins = grouped_state.get_group('instate')\n",
    "\n",
    "z=ins.groupby(['CLAIM_ID_KEY','ICD_DIAG_01_PRIMARY'], as_index=False)['AMT_BILLED'].sum()\n",
    "gamma = z.sort(['AMT_BILLED'],ascending=False).head(5)\n",
    "\n",
    "new6 = pd.merge(gamma, disease, how='inner',on=['ICD_DIAG_01_PRIMARY'] )\n",
    "new6"
   ]
  },
  {
   "cell_type": "code",
   "execution_count": 301,
   "metadata": {
    "collapsed": false
   },
   "outputs": [],
   "source": [
    "a = ins[(ins['CLAIM_ID_KEY'] == 119396347)]\n",
    "a.to_csv('C:/Users/nisha/Dropbox/Python project/HealthAnalytics/sickest_instate.csv')"
   ]
  },
  {
   "cell_type": "code",
   "execution_count": 302,
   "metadata": {
    "collapsed": false
   },
   "outputs": [
    {
     "name": "stderr",
     "output_type": "stream",
     "text": [
      "C:\\Users\\nisha\\AppData\\Local\\Continuum\\Anaconda3\\lib\\site-packages\\ipykernel\\__main__.py:4: FutureWarning: sort(columns=....) is deprecated, use sort_values(by=.....)\n"
     ]
    },
    {
     "data": {
      "text/html": [
       "<div>\n",
       "<table border=\"1\" class=\"dataframe\">\n",
       "  <thead>\n",
       "    <tr style=\"text-align: right;\">\n",
       "      <th></th>\n",
       "      <th>CLAIM_ID_KEY</th>\n",
       "      <th>ICD_DIAG_01_PRIMARY</th>\n",
       "      <th>AMT_BILLED</th>\n",
       "      <th>ICD_DIAG_DESC</th>\n",
       "    </tr>\n",
       "  </thead>\n",
       "  <tbody>\n",
       "    <tr>\n",
       "      <th>0</th>\n",
       "      <td>15748474</td>\n",
       "      <td>T827XXA</td>\n",
       "      <td>3115189.50</td>\n",
       "      <td>Infect/inflm react d/t oth cardi/vasc dev/impl...</td>\n",
       "    </tr>\n",
       "    <tr>\n",
       "      <th>1</th>\n",
       "      <td>17665422</td>\n",
       "      <td>I25710</td>\n",
       "      <td>713876.22</td>\n",
       "      <td>Athscl autologous vein CABG w unstable angina ...</td>\n",
       "    </tr>\n",
       "    <tr>\n",
       "      <th>2</th>\n",
       "      <td>39062649</td>\n",
       "      <td>K5641</td>\n",
       "      <td>612218.24</td>\n",
       "      <td>Fecal impaction</td>\n",
       "    </tr>\n",
       "    <tr>\n",
       "      <th>3</th>\n",
       "      <td>3402188</td>\n",
       "      <td>M4806</td>\n",
       "      <td>506552.96</td>\n",
       "      <td>Spinal stenosis, lumbar region</td>\n",
       "    </tr>\n",
       "    <tr>\n",
       "      <th>4</th>\n",
       "      <td>119011079</td>\n",
       "      <td>I214</td>\n",
       "      <td>496455.92</td>\n",
       "      <td>Non-ST elevation (NSTEMI) myocardial infarction</td>\n",
       "    </tr>\n",
       "  </tbody>\n",
       "</table>\n",
       "</div>"
      ],
      "text/plain": [
       "   CLAIM_ID_KEY ICD_DIAG_01_PRIMARY  AMT_BILLED  \\\n",
       "0      15748474             T827XXA  3115189.50   \n",
       "1      17665422              I25710   713876.22   \n",
       "2      39062649               K5641   612218.24   \n",
       "3       3402188               M4806   506552.96   \n",
       "4     119011079                I214   496455.92   \n",
       "\n",
       "                                       ICD_DIAG_DESC  \n",
       "0  Infect/inflm react d/t oth cardi/vasc dev/impl...  \n",
       "1  Athscl autologous vein CABG w unstable angina ...  \n",
       "2                                    Fecal impaction  \n",
       "3                     Spinal stenosis, lumbar region  \n",
       "4    Non-ST elevation (NSTEMI) myocardial infarction  "
      ]
     },
     "execution_count": 302,
     "metadata": {},
     "output_type": "execute_result"
    }
   ],
   "source": [
    "#outstate\n",
    "outs = grouped_state.get_group('outstate')\n",
    "z=outs.groupby(['CLAIM_ID_KEY','ICD_DIAG_01_PRIMARY'], as_index=False)['AMT_BILLED'].sum()\n",
    "delta = z.sort(['AMT_BILLED'],ascending=False).head(5)\n",
    "\n",
    "new7 = pd.merge(delta, disease, how='inner',on=['ICD_DIAG_01_PRIMARY'] )\n",
    "new7"
   ]
  },
  {
   "cell_type": "code",
   "execution_count": 306,
   "metadata": {
    "collapsed": false
   },
   "outputs": [],
   "source": [
    "b = outs[(outs['CLAIM_ID_KEY'] == 15748474)]\n",
    "b.to_csv('C:/Users/nisha/Dropbox/Python project/HealthAnalytics/sickest_outstate.csv')"
   ]
  },
  {
   "cell_type": "markdown",
   "metadata": {},
   "source": [
    "#END"
   ]
  }
 ],
 "metadata": {
  "kernelspec": {
   "display_name": "Python 3",
   "language": "python",
   "name": "python3"
  },
  "language_info": {
   "codemirror_mode": {
    "name": "ipython",
    "version": 3
   },
   "file_extension": ".py",
   "mimetype": "text/x-python",
   "name": "python",
   "nbconvert_exporter": "python",
   "pygments_lexer": "ipython3",
   "version": "3.6.0"
  }
 },
 "nbformat": 4,
 "nbformat_minor": 2
}
